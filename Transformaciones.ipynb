{
 "cells": [
  {
   "attachments": {},
   "cell_type": "markdown",
   "metadata": {},
   "source": [
    "# Bienvenido al Notebook de Transformaciones\n",
    "Acá vas a ver todas las transformaciones básicas para poner a funcionar el dataset que en un principio estaba casi inutilizable o muy difícil de acceder, lo que hago acá es disponibilizar los datos"
   ]
  },
  {
   "cell_type": "code",
   "execution_count": 1,
   "metadata": {},
   "outputs": [],
   "source": [
    "import pandas as pd #Importo las librerías que voy a utilizar, solo pandas..."
   ]
  },
  {
   "cell_type": "code",
   "execution_count": 2,
   "metadata": {},
   "outputs": [
    {
     "name": "stderr",
     "output_type": "stream",
     "text": [
      "C:\\Users\\yesen\\AppData\\Local\\Temp\\ipykernel_7504\\4105753216.py:1: DtypeWarning: Columns (10) have mixed types. Specify dtype option on import or set low_memory=False.\n",
      "  df_a_transformar = pd.read_csv('./datasets/movies_dataset.csv') #Accedo al csv entre mis archivos con la ruta relativa\n"
     ]
    },
    {
     "data": {
      "text/html": [
       "<div>\n",
       "<style scoped>\n",
       "    .dataframe tbody tr th:only-of-type {\n",
       "        vertical-align: middle;\n",
       "    }\n",
       "\n",
       "    .dataframe tbody tr th {\n",
       "        vertical-align: top;\n",
       "    }\n",
       "\n",
       "    .dataframe thead th {\n",
       "        text-align: right;\n",
       "    }\n",
       "</style>\n",
       "<table border=\"1\" class=\"dataframe\">\n",
       "  <thead>\n",
       "    <tr style=\"text-align: right;\">\n",
       "      <th></th>\n",
       "      <th>adult</th>\n",
       "      <th>belongs_to_collection</th>\n",
       "      <th>budget</th>\n",
       "      <th>genres</th>\n",
       "      <th>homepage</th>\n",
       "      <th>id</th>\n",
       "      <th>imdb_id</th>\n",
       "      <th>original_language</th>\n",
       "      <th>original_title</th>\n",
       "      <th>overview</th>\n",
       "      <th>...</th>\n",
       "      <th>release_date</th>\n",
       "      <th>revenue</th>\n",
       "      <th>runtime</th>\n",
       "      <th>spoken_languages</th>\n",
       "      <th>status</th>\n",
       "      <th>tagline</th>\n",
       "      <th>title</th>\n",
       "      <th>video</th>\n",
       "      <th>vote_average</th>\n",
       "      <th>vote_count</th>\n",
       "    </tr>\n",
       "  </thead>\n",
       "  <tbody>\n",
       "    <tr>\n",
       "      <th>0</th>\n",
       "      <td>False</td>\n",
       "      <td>{'id': 10194, 'name': 'Toy Story Collection', ...</td>\n",
       "      <td>30000000</td>\n",
       "      <td>[{'id': 16, 'name': 'Animation'}, {'id': 35, '...</td>\n",
       "      <td>http://toystory.disney.com/toy-story</td>\n",
       "      <td>862</td>\n",
       "      <td>tt0114709</td>\n",
       "      <td>en</td>\n",
       "      <td>Toy Story</td>\n",
       "      <td>Led by Woody, Andy's toys live happily in his ...</td>\n",
       "      <td>...</td>\n",
       "      <td>1995-10-30</td>\n",
       "      <td>373554033.0</td>\n",
       "      <td>81.0</td>\n",
       "      <td>[{'iso_639_1': 'en', 'name': 'English'}]</td>\n",
       "      <td>Released</td>\n",
       "      <td>NaN</td>\n",
       "      <td>Toy Story</td>\n",
       "      <td>False</td>\n",
       "      <td>7.7</td>\n",
       "      <td>5415.0</td>\n",
       "    </tr>\n",
       "    <tr>\n",
       "      <th>1</th>\n",
       "      <td>False</td>\n",
       "      <td>NaN</td>\n",
       "      <td>65000000</td>\n",
       "      <td>[{'id': 12, 'name': 'Adventure'}, {'id': 14, '...</td>\n",
       "      <td>NaN</td>\n",
       "      <td>8844</td>\n",
       "      <td>tt0113497</td>\n",
       "      <td>en</td>\n",
       "      <td>Jumanji</td>\n",
       "      <td>When siblings Judy and Peter discover an encha...</td>\n",
       "      <td>...</td>\n",
       "      <td>1995-12-15</td>\n",
       "      <td>262797249.0</td>\n",
       "      <td>104.0</td>\n",
       "      <td>[{'iso_639_1': 'en', 'name': 'English'}, {'iso...</td>\n",
       "      <td>Released</td>\n",
       "      <td>Roll the dice and unleash the excitement!</td>\n",
       "      <td>Jumanji</td>\n",
       "      <td>False</td>\n",
       "      <td>6.9</td>\n",
       "      <td>2413.0</td>\n",
       "    </tr>\n",
       "  </tbody>\n",
       "</table>\n",
       "<p>2 rows × 24 columns</p>\n",
       "</div>"
      ],
      "text/plain": [
       "   adult                              belongs_to_collection    budget  \\\n",
       "0  False  {'id': 10194, 'name': 'Toy Story Collection', ...  30000000   \n",
       "1  False                                                NaN  65000000   \n",
       "\n",
       "                                              genres  \\\n",
       "0  [{'id': 16, 'name': 'Animation'}, {'id': 35, '...   \n",
       "1  [{'id': 12, 'name': 'Adventure'}, {'id': 14, '...   \n",
       "\n",
       "                               homepage    id    imdb_id original_language  \\\n",
       "0  http://toystory.disney.com/toy-story   862  tt0114709                en   \n",
       "1                                   NaN  8844  tt0113497                en   \n",
       "\n",
       "  original_title                                           overview  ...  \\\n",
       "0      Toy Story  Led by Woody, Andy's toys live happily in his ...  ...   \n",
       "1        Jumanji  When siblings Judy and Peter discover an encha...  ...   \n",
       "\n",
       "  release_date      revenue runtime  \\\n",
       "0   1995-10-30  373554033.0    81.0   \n",
       "1   1995-12-15  262797249.0   104.0   \n",
       "\n",
       "                                    spoken_languages    status  \\\n",
       "0           [{'iso_639_1': 'en', 'name': 'English'}]  Released   \n",
       "1  [{'iso_639_1': 'en', 'name': 'English'}, {'iso...  Released   \n",
       "\n",
       "                                     tagline      title  video vote_average  \\\n",
       "0                                        NaN  Toy Story  False          7.7   \n",
       "1  Roll the dice and unleash the excitement!    Jumanji  False          6.9   \n",
       "\n",
       "  vote_count  \n",
       "0     5415.0  \n",
       "1     2413.0  \n",
       "\n",
       "[2 rows x 24 columns]"
      ]
     },
     "execution_count": 2,
     "metadata": {},
     "output_type": "execute_result"
    }
   ],
   "source": [
    "df_a_transformar = pd.read_csv('./datasets/movies_dataset.csv') #Accedo al csv entre mis archivos con la ruta relativa\n",
    "df_a_transformar.head(2)"
   ]
  },
  {
   "attachments": {},
   "cell_type": "markdown",
   "metadata": {},
   "source": [
    "### Accedo a las columnas con diccionarios anidados\n",
    "Primero quiero disponibilizar los datos que serían los más difíciles de acceder en el caso de que se mantengan como están. "
   ]
  },
  {
   "cell_type": "code",
   "execution_count": 3,
   "metadata": {},
   "outputs": [
    {
     "data": {
      "text/plain": [
       "0    {'id': 10194, 'name': 'Toy Story Collection', ...\n",
       "1                                                  NaN\n",
       "2    {'id': 119050, 'name': 'Grumpy Old Men Collect...\n",
       "3                                                  NaN\n",
       "4    {'id': 96871, 'name': 'Father of the Bride Col...\n",
       "Name: belongs_to_collection, dtype: object"
      ]
     },
     "execution_count": 3,
     "metadata": {},
     "output_type": "execute_result"
    }
   ],
   "source": [
    "df_btc = df_a_transformar['belongs_to_collection'] #Comenzamos con una de las columnas que tiene los diccionarios(\"belngs_to_collection\")\n",
    "df_btc.head(5)"
   ]
  },
  {
   "cell_type": "code",
   "execution_count": 4,
   "metadata": {},
   "outputs": [],
   "source": [
    "df_btc = df_btc.dropna()#Borro nulos"
   ]
  },
  {
   "cell_type": "code",
   "execution_count": 5,
   "metadata": {},
   "outputs": [
    {
     "data": {
      "text/plain": [
       "0     {'id': 10194, 'name': 'Toy Story Collection', ...\n",
       "2     {'id': 119050, 'name': 'Grumpy Old Men Collect...\n",
       "4     {'id': 96871, 'name': 'Father of the Bride Col...\n",
       "9     {'id': 645, 'name': 'James Bond Collection', '...\n",
       "12    {'id': 117693, 'name': 'Balto Collection', 'po...\n",
       "Name: belongs_to_collection, dtype: object"
      ]
     },
     "execution_count": 5,
     "metadata": {},
     "output_type": "execute_result"
    }
   ],
   "source": [
    "df_btc.head()"
   ]
  },
  {
   "cell_type": "code",
   "execution_count": 6,
   "metadata": {},
   "outputs": [],
   "source": [
    "dict_list = df_btc.apply(eval).tolist() #Creo una lista con el dataframe para trabajarlo con python puro, dado que es mas sencillo para mi"
   ]
  },
  {
   "cell_type": "code",
   "execution_count": 13,
   "metadata": {},
   "outputs": [
    {
     "name": "stdout",
     "output_type": "stream",
     "text": [
      "[]\n"
     ]
    }
   ],
   "source": [
    "in_list=[] #Creo una lista para los indices de los elementos que no sean diccionarios\n",
    "for i in range(len(dict_list)):\n",
    "    if not type(dict_list[i]) == dict: #Verifico que los elementos sean diccionarios y en el caso de que no lo sean se agregaran a una lista para posteriormente ser eliminados\n",
    "        print(dict_list[i])\n",
    "        in_list.append(i)\n",
    "\n",
    "print(in_list)"
   ]
  },
  {
   "cell_type": "code",
   "execution_count": 12,
   "metadata": {},
   "outputs": [],
   "source": [
    "for i in range(len(in_list)): #Elimino los elementos que no sean diccionarios\n",
    "    del dict_list[in_list[i]]"
   ]
  },
  {
   "cell_type": "code",
   "execution_count": 14,
   "metadata": {},
   "outputs": [],
   "source": [
    "df_btc = pd.DataFrame(dict_list, columns=['id', 'name', 'poster_path', 'backdrop_path']) #Creo el dataframe con los datos de los diccionarios tomando cada key como columna"
   ]
  },
  {
   "cell_type": "code",
   "execution_count": 15,
   "metadata": {},
   "outputs": [
    {
     "data": {
      "text/html": [
       "<div>\n",
       "<style scoped>\n",
       "    .dataframe tbody tr th:only-of-type {\n",
       "        vertical-align: middle;\n",
       "    }\n",
       "\n",
       "    .dataframe tbody tr th {\n",
       "        vertical-align: top;\n",
       "    }\n",
       "\n",
       "    .dataframe thead th {\n",
       "        text-align: right;\n",
       "    }\n",
       "</style>\n",
       "<table border=\"1\" class=\"dataframe\">\n",
       "  <thead>\n",
       "    <tr style=\"text-align: right;\">\n",
       "      <th></th>\n",
       "      <th>id</th>\n",
       "      <th>name</th>\n",
       "      <th>poster_path</th>\n",
       "      <th>backdrop_path</th>\n",
       "    </tr>\n",
       "  </thead>\n",
       "  <tbody>\n",
       "    <tr>\n",
       "      <th>0</th>\n",
       "      <td>10194</td>\n",
       "      <td>Toy Story Collection</td>\n",
       "      <td>/7G9915LfUQ2lVfwMEEhDsn3kT4B.jpg</td>\n",
       "      <td>/9FBwqcd9IRruEDUrTdcaafOMKUq.jpg</td>\n",
       "    </tr>\n",
       "    <tr>\n",
       "      <th>1</th>\n",
       "      <td>119050</td>\n",
       "      <td>Grumpy Old Men Collection</td>\n",
       "      <td>/nLvUdqgPgm3F85NMCii9gVFUcet.jpg</td>\n",
       "      <td>/hypTnLot2z8wpFS7qwsQHW1uV8u.jpg</td>\n",
       "    </tr>\n",
       "    <tr>\n",
       "      <th>2</th>\n",
       "      <td>96871</td>\n",
       "      <td>Father of the Bride Collection</td>\n",
       "      <td>/nts4iOmNnq7GNicycMJ9pSAn204.jpg</td>\n",
       "      <td>/7qwE57OVZmMJChBpLEbJEmzUydk.jpg</td>\n",
       "    </tr>\n",
       "    <tr>\n",
       "      <th>3</th>\n",
       "      <td>645</td>\n",
       "      <td>James Bond Collection</td>\n",
       "      <td>/HORpg5CSkmeQlAolx3bKMrKgfi.jpg</td>\n",
       "      <td>/6VcVl48kNKvdXOZfJPdarlUGOsk.jpg</td>\n",
       "    </tr>\n",
       "    <tr>\n",
       "      <th>4</th>\n",
       "      <td>117693</td>\n",
       "      <td>Balto Collection</td>\n",
       "      <td>/w0ZgH6Lgxt2bQYnf1ss74UvYftm.jpg</td>\n",
       "      <td>/9VM5LiJV0bGb1st1KyHA3cVnO2G.jpg</td>\n",
       "    </tr>\n",
       "  </tbody>\n",
       "</table>\n",
       "</div>"
      ],
      "text/plain": [
       "       id                            name                       poster_path  \\\n",
       "0   10194            Toy Story Collection  /7G9915LfUQ2lVfwMEEhDsn3kT4B.jpg   \n",
       "1  119050       Grumpy Old Men Collection  /nLvUdqgPgm3F85NMCii9gVFUcet.jpg   \n",
       "2   96871  Father of the Bride Collection  /nts4iOmNnq7GNicycMJ9pSAn204.jpg   \n",
       "3     645           James Bond Collection   /HORpg5CSkmeQlAolx3bKMrKgfi.jpg   \n",
       "4  117693                Balto Collection  /w0ZgH6Lgxt2bQYnf1ss74UvYftm.jpg   \n",
       "\n",
       "                      backdrop_path  \n",
       "0  /9FBwqcd9IRruEDUrTdcaafOMKUq.jpg  \n",
       "1  /hypTnLot2z8wpFS7qwsQHW1uV8u.jpg  \n",
       "2  /7qwE57OVZmMJChBpLEbJEmzUydk.jpg  \n",
       "3  /6VcVl48kNKvdXOZfJPdarlUGOsk.jpg  \n",
       "4  /9VM5LiJV0bGb1st1KyHA3cVnO2G.jpg  "
      ]
     },
     "execution_count": 15,
     "metadata": {},
     "output_type": "execute_result"
    }
   ],
   "source": [
    "df_btc.head()#Observamos"
   ]
  },
  {
   "cell_type": "code",
   "execution_count": 16,
   "metadata": {},
   "outputs": [],
   "source": [
    "lista_lis = df_a_transformar['genres'] #Seguimos con la columna \"genres\"\n",
    "df_genres =  lista_lis\n"
   ]
  },
  {
   "cell_type": "code",
   "execution_count": 18,
   "metadata": {},
   "outputs": [
    {
     "data": {
      "text/plain": [
       "0    [{'id': 16, 'name': 'Animation'}, {'id': 35, '...\n",
       "1    [{'id': 12, 'name': 'Adventure'}, {'id': 14, '...\n",
       "2    [{'id': 10749, 'name': 'Romance'}, {'id': 35, ...\n",
       "3    [{'id': 35, 'name': 'Comedy'}, {'id': 18, 'nam...\n",
       "4                       [{'id': 35, 'name': 'Comedy'}]\n",
       "Name: genres, dtype: object"
      ]
     },
     "execution_count": 18,
     "metadata": {},
     "output_type": "execute_result"
    }
   ],
   "source": [
    "df_genres.head()"
   ]
  },
  {
   "cell_type": "code",
   "execution_count": 19,
   "metadata": {},
   "outputs": [],
   "source": [
    "'''\n",
    "Para ésta columna fué sencillo solo creé una lista auxiliar(lista_aux) en la cual primero guardé el string del registro en el indice[i] y \n",
    "después usé la función eval() para convertirlo en lista.\n",
    "Dado que era habían diccionaros anidados lo que hice fué acceder a cada una en un segundo bucle(for) y añadirlos a una nueva lista para\n",
    "finalmente convertir todo en un dataframe(df_genres)\n",
    "'''\n",
    "dimentions = df_genres.shape \n",
    "df = []\n",
    "for i in range(dimentions[0]-1):\n",
    "    lista_aux = str(df_genres.loc[i]) \n",
    "    lista_aux = eval(lista_aux)\n",
    "\n",
    "    for dicc in lista_aux:\n",
    "        df.append(dicc)\n",
    "\n",
    "df_genres = pd.DataFrame(df)"
   ]
  },
  {
   "cell_type": "code",
   "execution_count": 20,
   "metadata": {},
   "outputs": [],
   "source": [
    "df_genres.columns=['id', 'genre']"
   ]
  },
  {
   "cell_type": "code",
   "execution_count": 21,
   "metadata": {},
   "outputs": [
    {
     "data": {
      "text/html": [
       "<div>\n",
       "<style scoped>\n",
       "    .dataframe tbody tr th:only-of-type {\n",
       "        vertical-align: middle;\n",
       "    }\n",
       "\n",
       "    .dataframe tbody tr th {\n",
       "        vertical-align: top;\n",
       "    }\n",
       "\n",
       "    .dataframe thead th {\n",
       "        text-align: right;\n",
       "    }\n",
       "</style>\n",
       "<table border=\"1\" class=\"dataframe\">\n",
       "  <thead>\n",
       "    <tr style=\"text-align: right;\">\n",
       "      <th></th>\n",
       "      <th>id</th>\n",
       "      <th>genre</th>\n",
       "    </tr>\n",
       "  </thead>\n",
       "  <tbody>\n",
       "    <tr>\n",
       "      <th>0</th>\n",
       "      <td>16</td>\n",
       "      <td>Animation</td>\n",
       "    </tr>\n",
       "    <tr>\n",
       "      <th>1</th>\n",
       "      <td>35</td>\n",
       "      <td>Comedy</td>\n",
       "    </tr>\n",
       "    <tr>\n",
       "      <th>2</th>\n",
       "      <td>10751</td>\n",
       "      <td>Family</td>\n",
       "    </tr>\n",
       "    <tr>\n",
       "      <th>3</th>\n",
       "      <td>12</td>\n",
       "      <td>Adventure</td>\n",
       "    </tr>\n",
       "    <tr>\n",
       "      <th>4</th>\n",
       "      <td>14</td>\n",
       "      <td>Fantasy</td>\n",
       "    </tr>\n",
       "    <tr>\n",
       "      <th>...</th>\n",
       "      <td>...</td>\n",
       "      <td>...</td>\n",
       "    </tr>\n",
       "    <tr>\n",
       "      <th>91101</th>\n",
       "      <td>10751</td>\n",
       "      <td>Family</td>\n",
       "    </tr>\n",
       "    <tr>\n",
       "      <th>91102</th>\n",
       "      <td>18</td>\n",
       "      <td>Drama</td>\n",
       "    </tr>\n",
       "    <tr>\n",
       "      <th>91103</th>\n",
       "      <td>28</td>\n",
       "      <td>Action</td>\n",
       "    </tr>\n",
       "    <tr>\n",
       "      <th>91104</th>\n",
       "      <td>18</td>\n",
       "      <td>Drama</td>\n",
       "    </tr>\n",
       "    <tr>\n",
       "      <th>91105</th>\n",
       "      <td>53</td>\n",
       "      <td>Thriller</td>\n",
       "    </tr>\n",
       "  </tbody>\n",
       "</table>\n",
       "<p>91106 rows × 2 columns</p>\n",
       "</div>"
      ],
      "text/plain": [
       "          id      genre\n",
       "0         16  Animation\n",
       "1         35     Comedy\n",
       "2      10751     Family\n",
       "3         12  Adventure\n",
       "4         14    Fantasy\n",
       "...      ...        ...\n",
       "91101  10751     Family\n",
       "91102     18      Drama\n",
       "91103     28     Action\n",
       "91104     18      Drama\n",
       "91105     53   Thriller\n",
       "\n",
       "[91106 rows x 2 columns]"
      ]
     },
     "execution_count": 21,
     "metadata": {},
     "output_type": "execute_result"
    }
   ],
   "source": [
    "df_genres"
   ]
  },
  {
   "cell_type": "code",
   "execution_count": null,
   "metadata": {},
   "outputs": [
    {
     "data": {
      "text/html": [
       "<div>\n",
       "<style scoped>\n",
       "    .dataframe tbody tr th:only-of-type {\n",
       "        vertical-align: middle;\n",
       "    }\n",
       "\n",
       "    .dataframe tbody tr th {\n",
       "        vertical-align: top;\n",
       "    }\n",
       "\n",
       "    .dataframe thead th {\n",
       "        text-align: right;\n",
       "    }\n",
       "</style>\n",
       "<table border=\"1\" class=\"dataframe\">\n",
       "  <thead>\n",
       "    <tr style=\"text-align: right;\">\n",
       "      <th></th>\n",
       "      <th>id</th>\n",
       "      <th>production_companies</th>\n",
       "    </tr>\n",
       "  </thead>\n",
       "  <tbody>\n",
       "    <tr>\n",
       "      <th>0</th>\n",
       "      <td>862</td>\n",
       "      <td>[{'name': 'Pixar Animation Studios', 'id': 3}]</td>\n",
       "    </tr>\n",
       "    <tr>\n",
       "      <th>1</th>\n",
       "      <td>8844</td>\n",
       "      <td>[{'name': 'TriStar Pictures', 'id': 559}, {'na...</td>\n",
       "    </tr>\n",
       "    <tr>\n",
       "      <th>2</th>\n",
       "      <td>15602</td>\n",
       "      <td>[{'name': 'Warner Bros.', 'id': 6194}, {'name'...</td>\n",
       "    </tr>\n",
       "    <tr>\n",
       "      <th>3</th>\n",
       "      <td>31357</td>\n",
       "      <td>[{'name': 'Twentieth Century Fox Film Corporat...</td>\n",
       "    </tr>\n",
       "    <tr>\n",
       "      <th>4</th>\n",
       "      <td>11862</td>\n",
       "      <td>[{'name': 'Sandollar Productions', 'id': 5842}...</td>\n",
       "    </tr>\n",
       "  </tbody>\n",
       "</table>\n",
       "</div>"
      ],
      "text/plain": [
       "      id                               production_companies\n",
       "0    862     [{'name': 'Pixar Animation Studios', 'id': 3}]\n",
       "1   8844  [{'name': 'TriStar Pictures', 'id': 559}, {'na...\n",
       "2  15602  [{'name': 'Warner Bros.', 'id': 6194}, {'name'...\n",
       "3  31357  [{'name': 'Twentieth Century Fox Film Corporat...\n",
       "4  11862  [{'name': 'Sandollar Productions', 'id': 5842}..."
      ]
     },
     "execution_count": 34,
     "metadata": {},
     "output_type": "execute_result"
    }
   ],
   "source": [
    "df_a_transformar[['id','production_companies']].head(5)"
   ]
  },
  {
   "cell_type": "code",
   "execution_count": 22,
   "metadata": {},
   "outputs": [
    {
     "data": {
      "text/plain": [
       "0           [{'name': 'Pixar Animation Studios', 'id': 3}]\n",
       "1        [{'name': 'TriStar Pictures', 'id': 559}, {'na...\n",
       "2        [{'name': 'Warner Bros.', 'id': 6194}, {'name'...\n",
       "3        [{'name': 'Twentieth Century Fox Film Corporat...\n",
       "4        [{'name': 'Sandollar Productions', 'id': 5842}...\n",
       "                               ...                        \n",
       "45461                                                   []\n",
       "45462               [{'name': 'Sine Olivia', 'id': 19653}]\n",
       "45463    [{'name': 'American World Pictures', 'id': 6165}]\n",
       "45464                 [{'name': 'Yermoliev', 'id': 88753}]\n",
       "45465                                                   []\n",
       "Name: production_companies, Length: 45466, dtype: object"
      ]
     },
     "execution_count": 22,
     "metadata": {},
     "output_type": "execute_result"
    }
   ],
   "source": [
    "df_production_companies = df_a_transformar['production_companies']#Continuamos con la columna \"production_companies\"\n",
    "df_production_companies"
   ]
  },
  {
   "cell_type": "code",
   "execution_count": 23,
   "metadata": {},
   "outputs": [],
   "source": [
    "df_production_companies = df_production_companies.dropna().reset_index(drop=True) #Borro los nulos y reseteo los indices para evitar errores en la iteración"
   ]
  },
  {
   "cell_type": "code",
   "execution_count": 24,
   "metadata": {},
   "outputs": [
    {
     "data": {
      "text/plain": [
       "0           [{'name': 'Pixar Animation Studios', 'id': 3}]\n",
       "1        [{'name': 'TriStar Pictures', 'id': 559}, {'na...\n",
       "2        [{'name': 'Warner Bros.', 'id': 6194}, {'name'...\n",
       "3        [{'name': 'Twentieth Century Fox Film Corporat...\n",
       "4        [{'name': 'Sandollar Productions', 'id': 5842}...\n",
       "                               ...                        \n",
       "45458                                                   []\n",
       "45459               [{'name': 'Sine Olivia', 'id': 19653}]\n",
       "45460    [{'name': 'American World Pictures', 'id': 6165}]\n",
       "45461                 [{'name': 'Yermoliev', 'id': 88753}]\n",
       "45462                                                   []\n",
       "Name: production_companies, Length: 45463, dtype: object"
      ]
     },
     "execution_count": 24,
     "metadata": {},
     "output_type": "execute_result"
    }
   ],
   "source": [
    "df_production_companies"
   ]
  },
  {
   "cell_type": "code",
   "execution_count": 25,
   "metadata": {},
   "outputs": [],
   "source": [
    "mask = df_production_companies == \"[]\"\n",
    "df_production_companies = df_production_companies[~mask].reset_index(drop = True) #Borro listas vacías que no me aportan nada y vuelvo a resetear lo indices"
   ]
  },
  {
   "cell_type": "code",
   "execution_count": 26,
   "metadata": {},
   "outputs": [
    {
     "data": {
      "text/plain": [
       "0           [{'name': 'Pixar Animation Studios', 'id': 3}]\n",
       "1        [{'name': 'TriStar Pictures', 'id': 559}, {'na...\n",
       "2        [{'name': 'Warner Bros.', 'id': 6194}, {'name'...\n",
       "3        [{'name': 'Twentieth Century Fox Film Corporat...\n",
       "4        [{'name': 'Sandollar Productions', 'id': 5842}...\n",
       "                               ...                        \n",
       "33583      [{'name': 'Concorde-New Horizons', 'id': 4688}]\n",
       "33584    [{'name': 'Westdeutscher Rundfunk (WDR)', 'id'...\n",
       "33585               [{'name': 'Sine Olivia', 'id': 19653}]\n",
       "33586    [{'name': 'American World Pictures', 'id': 6165}]\n",
       "33587                 [{'name': 'Yermoliev', 'id': 88753}]\n",
       "Name: production_companies, Length: 33588, dtype: object"
      ]
     },
     "execution_count": 26,
     "metadata": {},
     "output_type": "execute_result"
    }
   ],
   "source": [
    "df_production_companies"
   ]
  },
  {
   "cell_type": "code",
   "execution_count": 27,
   "metadata": {},
   "outputs": [],
   "source": [
    "dimenciones = df_production_companies.shape \n",
    "lista_de = []\n",
    "#Itero cada registro y los agrego en una lista(lista_de) para trabajarlo mejor\n",
    "for i in range(dimenciones[0]-1): \n",
    "    s = df_production_companies.loc[i]\n",
    "    lista_de.append(eval(s))\n"
   ]
  },
  {
   "cell_type": "code",
   "execution_count": 28,
   "metadata": {},
   "outputs": [
    {
     "data": {
      "text/plain": [
       "[16340, 23302, 27253]"
      ]
     },
     "execution_count": 28,
     "metadata": {},
     "output_type": "execute_result"
    }
   ],
   "source": [
    "i = -1\n",
    "lista_ind = []\n",
    "#Me daba un error de tipo(bool) así que borro todos los registros que sean booleanos(porque no eran muchos) \n",
    "for lista in lista_de: \n",
    "    i+=1\n",
    "    if type(lista) == bool:\n",
    "        lista_ind.append(i)\n",
    "        lista_de.pop(i)\n",
    "lista_ind"
   ]
  },
  {
   "cell_type": "code",
   "execution_count": 29,
   "metadata": {},
   "outputs": [],
   "source": [
    "for_df = []\n",
    "#Ahora si lo transformo en DataFrame \n",
    "for lista in lista_de:\n",
    "    for dicc in lista:\n",
    "        for_df.append(dicc)\n",
    "\n",
    "df_production_companies = pd.DataFrame(for_df)"
   ]
  },
  {
   "cell_type": "code",
   "execution_count": 30,
   "metadata": {},
   "outputs": [],
   "source": [
    "df_production_companies.columns=['companies', 'id']"
   ]
  },
  {
   "cell_type": "code",
   "execution_count": 31,
   "metadata": {},
   "outputs": [
    {
     "data": {
      "text/html": [
       "<div>\n",
       "<style scoped>\n",
       "    .dataframe tbody tr th:only-of-type {\n",
       "        vertical-align: middle;\n",
       "    }\n",
       "\n",
       "    .dataframe tbody tr th {\n",
       "        vertical-align: top;\n",
       "    }\n",
       "\n",
       "    .dataframe thead th {\n",
       "        text-align: right;\n",
       "    }\n",
       "</style>\n",
       "<table border=\"1\" class=\"dataframe\">\n",
       "  <thead>\n",
       "    <tr style=\"text-align: right;\">\n",
       "      <th></th>\n",
       "      <th>companies</th>\n",
       "      <th>id</th>\n",
       "    </tr>\n",
       "  </thead>\n",
       "  <tbody>\n",
       "    <tr>\n",
       "      <th>0</th>\n",
       "      <td>Pixar Animation Studios</td>\n",
       "      <td>3</td>\n",
       "    </tr>\n",
       "    <tr>\n",
       "      <th>1</th>\n",
       "      <td>TriStar Pictures</td>\n",
       "      <td>559</td>\n",
       "    </tr>\n",
       "    <tr>\n",
       "      <th>2</th>\n",
       "      <td>Teitler Film</td>\n",
       "      <td>2550</td>\n",
       "    </tr>\n",
       "    <tr>\n",
       "      <th>3</th>\n",
       "      <td>Interscope Communications</td>\n",
       "      <td>10201</td>\n",
       "    </tr>\n",
       "    <tr>\n",
       "      <th>4</th>\n",
       "      <td>Warner Bros.</td>\n",
       "      <td>6194</td>\n",
       "    </tr>\n",
       "  </tbody>\n",
       "</table>\n",
       "</div>"
      ],
      "text/plain": [
       "                   companies     id\n",
       "0    Pixar Animation Studios      3\n",
       "1           TriStar Pictures    559\n",
       "2               Teitler Film   2550\n",
       "3  Interscope Communications  10201\n",
       "4               Warner Bros.   6194"
      ]
     },
     "execution_count": 31,
     "metadata": {},
     "output_type": "execute_result"
    }
   ],
   "source": [
    "df_production_companies.head()"
   ]
  },
  {
   "cell_type": "code",
   "execution_count": 45,
   "metadata": {},
   "outputs": [
    {
     "data": {
      "text/plain": [
       "0        [{'iso_3166_1': 'US', 'name': 'United States o...\n",
       "1        [{'iso_3166_1': 'US', 'name': 'United States o...\n",
       "2        [{'iso_3166_1': 'US', 'name': 'United States o...\n",
       "3        [{'iso_3166_1': 'US', 'name': 'United States o...\n",
       "4        [{'iso_3166_1': 'US', 'name': 'United States o...\n",
       "                               ...                        \n",
       "45461               [{'iso_3166_1': 'IR', 'name': 'Iran'}]\n",
       "45462        [{'iso_3166_1': 'PH', 'name': 'Philippines'}]\n",
       "45463    [{'iso_3166_1': 'US', 'name': 'United States o...\n",
       "45464             [{'iso_3166_1': 'RU', 'name': 'Russia'}]\n",
       "45465     [{'iso_3166_1': 'GB', 'name': 'United Kingdom'}]\n",
       "Name: production_countries, Length: 45466, dtype: object"
      ]
     },
     "execution_count": 45,
     "metadata": {},
     "output_type": "execute_result"
    }
   ],
   "source": [
    "df_production_countries = df_a_transformar['production_countries']#Continuamos con la siguiente columna que se llama \"production_companies\"\n",
    "df_production_countries"
   ]
  },
  {
   "cell_type": "code",
   "execution_count": 46,
   "metadata": {},
   "outputs": [
    {
     "data": {
      "text/plain": [
       "0        [{'iso_3166_1': 'US', 'name': 'United States o...\n",
       "1        [{'iso_3166_1': 'US', 'name': 'United States o...\n",
       "2        [{'iso_3166_1': 'US', 'name': 'United States o...\n",
       "3        [{'iso_3166_1': 'US', 'name': 'United States o...\n",
       "4        [{'iso_3166_1': 'US', 'name': 'United States o...\n",
       "                               ...                        \n",
       "45458               [{'iso_3166_1': 'IR', 'name': 'Iran'}]\n",
       "45459        [{'iso_3166_1': 'PH', 'name': 'Philippines'}]\n",
       "45460    [{'iso_3166_1': 'US', 'name': 'United States o...\n",
       "45461             [{'iso_3166_1': 'RU', 'name': 'Russia'}]\n",
       "45462     [{'iso_3166_1': 'GB', 'name': 'United Kingdom'}]\n",
       "Name: production_countries, Length: 45463, dtype: object"
      ]
     },
     "execution_count": 46,
     "metadata": {},
     "output_type": "execute_result"
    }
   ],
   "source": [
    "df_production_countries = df_production_countries.dropna().reset_index(drop=True) #Borro nulos y reseteo indices\n",
    "df_production_countries"
   ]
  },
  {
   "cell_type": "code",
   "execution_count": null,
   "metadata": {},
   "outputs": [],
   "source": [
    "dimenciones = df_production_countries.shape\n",
    "lista_de_=[]\n",
    "#Creo una lista con cada uno de los registros\n",
    "for i in range(dimenciones[0]-1):\n",
    "    s = str(df_production_countries.loc[i])\n",
    "    lista_de_.append(eval(s))#Les recuerdo que la función eval() lo que hace es detectar si un string tiene formato de una expreción de un tipo de dato de python y la transforma en ese tipo\n",
    "    \n",
    "lista_de_"
   ]
  },
  {
   "cell_type": "code",
   "execution_count": 48,
   "metadata": {},
   "outputs": [],
   "source": [
    "#Otra vez había error de tipo, esta vez es por datos del tipo flotante, como no eran muchos(3) decidí borrarlos \n",
    "for item in lista_de_:\n",
    "    if type(item) == float:\n",
    "        lista_de_.remove(item)"
   ]
  },
  {
   "cell_type": "code",
   "execution_count": 49,
   "metadata": {},
   "outputs": [],
   "source": [
    "for_df = []\n",
    "#Hago la devida transformación a dataframe\n",
    "for lista in lista_de_:\n",
    "    for dicc in lista:\n",
    "        for_df.append(dicc)\n",
    "\n",
    "df_production_countries = pd.DataFrame(for_df)"
   ]
  },
  {
   "cell_type": "code",
   "execution_count": 51,
   "metadata": {},
   "outputs": [],
   "source": [
    "df_production_countries.columns=['countries', 'full_country']"
   ]
  },
  {
   "cell_type": "code",
   "execution_count": 52,
   "metadata": {},
   "outputs": [
    {
     "data": {
      "text/html": [
       "<div>\n",
       "<style scoped>\n",
       "    .dataframe tbody tr th:only-of-type {\n",
       "        vertical-align: middle;\n",
       "    }\n",
       "\n",
       "    .dataframe tbody tr th {\n",
       "        vertical-align: top;\n",
       "    }\n",
       "\n",
       "    .dataframe thead th {\n",
       "        text-align: right;\n",
       "    }\n",
       "</style>\n",
       "<table border=\"1\" class=\"dataframe\">\n",
       "  <thead>\n",
       "    <tr style=\"text-align: right;\">\n",
       "      <th></th>\n",
       "      <th>countries</th>\n",
       "      <th>full_country</th>\n",
       "    </tr>\n",
       "  </thead>\n",
       "  <tbody>\n",
       "    <tr>\n",
       "      <th>0</th>\n",
       "      <td>US</td>\n",
       "      <td>United States of America</td>\n",
       "    </tr>\n",
       "    <tr>\n",
       "      <th>1</th>\n",
       "      <td>US</td>\n",
       "      <td>United States of America</td>\n",
       "    </tr>\n",
       "    <tr>\n",
       "      <th>2</th>\n",
       "      <td>US</td>\n",
       "      <td>United States of America</td>\n",
       "    </tr>\n",
       "    <tr>\n",
       "      <th>3</th>\n",
       "      <td>US</td>\n",
       "      <td>United States of America</td>\n",
       "    </tr>\n",
       "    <tr>\n",
       "      <th>4</th>\n",
       "      <td>US</td>\n",
       "      <td>United States of America</td>\n",
       "    </tr>\n",
       "    <tr>\n",
       "      <th>...</th>\n",
       "      <td>...</td>\n",
       "      <td>...</td>\n",
       "    </tr>\n",
       "    <tr>\n",
       "      <th>49417</th>\n",
       "      <td>US</td>\n",
       "      <td>United States of America</td>\n",
       "    </tr>\n",
       "    <tr>\n",
       "      <th>49418</th>\n",
       "      <td>IR</td>\n",
       "      <td>Iran</td>\n",
       "    </tr>\n",
       "    <tr>\n",
       "      <th>49419</th>\n",
       "      <td>PH</td>\n",
       "      <td>Philippines</td>\n",
       "    </tr>\n",
       "    <tr>\n",
       "      <th>49420</th>\n",
       "      <td>US</td>\n",
       "      <td>United States of America</td>\n",
       "    </tr>\n",
       "    <tr>\n",
       "      <th>49421</th>\n",
       "      <td>RU</td>\n",
       "      <td>Russia</td>\n",
       "    </tr>\n",
       "  </tbody>\n",
       "</table>\n",
       "<p>49422 rows × 2 columns</p>\n",
       "</div>"
      ],
      "text/plain": [
       "      countries              full_country\n",
       "0            US  United States of America\n",
       "1            US  United States of America\n",
       "2            US  United States of America\n",
       "3            US  United States of America\n",
       "4            US  United States of America\n",
       "...         ...                       ...\n",
       "49417        US  United States of America\n",
       "49418        IR                      Iran\n",
       "49419        PH               Philippines\n",
       "49420        US  United States of America\n",
       "49421        RU                    Russia\n",
       "\n",
       "[49422 rows x 2 columns]"
      ]
     },
     "execution_count": 52,
     "metadata": {},
     "output_type": "execute_result"
    }
   ],
   "source": [
    "df_production_countries"
   ]
  },
  {
   "cell_type": "code",
   "execution_count": 53,
   "metadata": {},
   "outputs": [
    {
     "data": {
      "text/plain": [
       "0                 [{'iso_639_1': 'en', 'name': 'English'}]\n",
       "1        [{'iso_639_1': 'en', 'name': 'English'}, {'iso...\n",
       "2                 [{'iso_639_1': 'en', 'name': 'English'}]\n",
       "3                 [{'iso_639_1': 'en', 'name': 'English'}]\n",
       "4                 [{'iso_639_1': 'en', 'name': 'English'}]\n",
       "                               ...                        \n",
       "45461               [{'iso_639_1': 'fa', 'name': 'فارسی'}]\n",
       "45462                    [{'iso_639_1': 'tl', 'name': ''}]\n",
       "45463             [{'iso_639_1': 'en', 'name': 'English'}]\n",
       "45464                                                   []\n",
       "45465             [{'iso_639_1': 'en', 'name': 'English'}]\n",
       "Name: spoken_languages, Length: 45466, dtype: object"
      ]
     },
     "execution_count": 53,
     "metadata": {},
     "output_type": "execute_result"
    }
   ],
   "source": [
    "df_s_l = df_a_transformar['spoken_languages']#la ultima columna con listas y diccionarios anidados \"spoken_languages\"\n",
    "df_s_l"
   ]
  },
  {
   "cell_type": "code",
   "execution_count": 54,
   "metadata": {},
   "outputs": [
    {
     "data": {
      "text/plain": [
       "0                 [{'iso_639_1': 'en', 'name': 'English'}]\n",
       "1        [{'iso_639_1': 'en', 'name': 'English'}, {'iso...\n",
       "2                 [{'iso_639_1': 'en', 'name': 'English'}]\n",
       "3                 [{'iso_639_1': 'en', 'name': 'English'}]\n",
       "4                 [{'iso_639_1': 'en', 'name': 'English'}]\n",
       "                               ...                        \n",
       "45455               [{'iso_639_1': 'fa', 'name': 'فارسی'}]\n",
       "45456                    [{'iso_639_1': 'tl', 'name': ''}]\n",
       "45457             [{'iso_639_1': 'en', 'name': 'English'}]\n",
       "45458                                                   []\n",
       "45459             [{'iso_639_1': 'en', 'name': 'English'}]\n",
       "Name: spoken_languages, Length: 45460, dtype: object"
      ]
     },
     "execution_count": 54,
     "metadata": {},
     "output_type": "execute_result"
    }
   ],
   "source": [
    "df_s_l = df_s_l.dropna().reset_index(drop=True) #Borro nulos y reseteo inidices\n",
    "df_s_l"
   ]
  },
  {
   "cell_type": "code",
   "execution_count": null,
   "metadata": {},
   "outputs": [],
   "source": [
    "dimenciones = df_s_l.shape\n",
    "lista_de_=[]\n",
    "\n",
    "#Creo una lista con los valores de cada registro\n",
    "for i in range(dimenciones[0]-1):\n",
    "    s = str(df_s_l.loc[i])\n",
    "    lista_de_.append(eval(s))\n",
    "    \n",
    "lista_de_"
   ]
  },
  {
   "cell_type": "code",
   "execution_count": 56,
   "metadata": {},
   "outputs": [],
   "source": [
    "for_df = []\n",
    "#Hago la devida transformación a dataframe\n",
    "for lista in lista_de_:\n",
    "    for dicc in lista:\n",
    "        for_df.append(dicc)\n",
    "\n",
    "df_s_l = pd.DataFrame(for_df)"
   ]
  },
  {
   "cell_type": "code",
   "execution_count": 59,
   "metadata": {},
   "outputs": [],
   "source": [
    "df_s_l.columns=['spooken_language','full_language']"
   ]
  },
  {
   "cell_type": "code",
   "execution_count": 60,
   "metadata": {},
   "outputs": [
    {
     "data": {
      "text/html": [
       "<div>\n",
       "<style scoped>\n",
       "    .dataframe tbody tr th:only-of-type {\n",
       "        vertical-align: middle;\n",
       "    }\n",
       "\n",
       "    .dataframe tbody tr th {\n",
       "        vertical-align: top;\n",
       "    }\n",
       "\n",
       "    .dataframe thead th {\n",
       "        text-align: right;\n",
       "    }\n",
       "</style>\n",
       "<table border=\"1\" class=\"dataframe\">\n",
       "  <thead>\n",
       "    <tr style=\"text-align: right;\">\n",
       "      <th></th>\n",
       "      <th>spooken_language</th>\n",
       "      <th>full_language</th>\n",
       "    </tr>\n",
       "  </thead>\n",
       "  <tbody>\n",
       "    <tr>\n",
       "      <th>0</th>\n",
       "      <td>en</td>\n",
       "      <td>English</td>\n",
       "    </tr>\n",
       "    <tr>\n",
       "      <th>1</th>\n",
       "      <td>en</td>\n",
       "      <td>English</td>\n",
       "    </tr>\n",
       "    <tr>\n",
       "      <th>2</th>\n",
       "      <td>fr</td>\n",
       "      <td>Français</td>\n",
       "    </tr>\n",
       "    <tr>\n",
       "      <th>3</th>\n",
       "      <td>en</td>\n",
       "      <td>English</td>\n",
       "    </tr>\n",
       "    <tr>\n",
       "      <th>4</th>\n",
       "      <td>en</td>\n",
       "      <td>English</td>\n",
       "    </tr>\n",
       "    <tr>\n",
       "      <th>...</th>\n",
       "      <td>...</td>\n",
       "      <td>...</td>\n",
       "    </tr>\n",
       "    <tr>\n",
       "      <th>53294</th>\n",
       "      <td>en</td>\n",
       "      <td>English</td>\n",
       "    </tr>\n",
       "    <tr>\n",
       "      <th>53295</th>\n",
       "      <td>en</td>\n",
       "      <td>English</td>\n",
       "    </tr>\n",
       "    <tr>\n",
       "      <th>53296</th>\n",
       "      <td>fa</td>\n",
       "      <td>فارسی</td>\n",
       "    </tr>\n",
       "    <tr>\n",
       "      <th>53297</th>\n",
       "      <td>tl</td>\n",
       "      <td></td>\n",
       "    </tr>\n",
       "    <tr>\n",
       "      <th>53298</th>\n",
       "      <td>en</td>\n",
       "      <td>English</td>\n",
       "    </tr>\n",
       "  </tbody>\n",
       "</table>\n",
       "<p>53299 rows × 2 columns</p>\n",
       "</div>"
      ],
      "text/plain": [
       "      spooken_language full_language\n",
       "0                   en       English\n",
       "1                   en       English\n",
       "2                   fr      Français\n",
       "3                   en       English\n",
       "4                   en       English\n",
       "...                ...           ...\n",
       "53294               en       English\n",
       "53295               en       English\n",
       "53296               fa         فارسی\n",
       "53297               tl              \n",
       "53298               en       English\n",
       "\n",
       "[53299 rows x 2 columns]"
      ]
     },
     "execution_count": 60,
     "metadata": {},
     "output_type": "execute_result"
    }
   ],
   "source": [
    "df_s_l"
   ]
  },
  {
   "attachments": {},
   "cell_type": "markdown",
   "metadata": {},
   "source": [
    "#### Algo huele mal..."
   ]
  },
  {
   "cell_type": "code",
   "execution_count": 68,
   "metadata": {},
   "outputs": [
    {
     "data": {
      "text/html": [
       "<div>\n",
       "<style scoped>\n",
       "    .dataframe tbody tr th:only-of-type {\n",
       "        vertical-align: middle;\n",
       "    }\n",
       "\n",
       "    .dataframe tbody tr th {\n",
       "        vertical-align: top;\n",
       "    }\n",
       "\n",
       "    .dataframe thead th {\n",
       "        text-align: right;\n",
       "    }\n",
       "</style>\n",
       "<table border=\"1\" class=\"dataframe\">\n",
       "  <thead>\n",
       "    <tr style=\"text-align: right;\">\n",
       "      <th></th>\n",
       "      <th>id</th>\n",
       "      <th>name</th>\n",
       "      <th>poster_path</th>\n",
       "      <th>backdrop_path</th>\n",
       "      <th>genre</th>\n",
       "      <th>companies</th>\n",
       "    </tr>\n",
       "  </thead>\n",
       "  <tbody>\n",
       "    <tr>\n",
       "      <th>0</th>\n",
       "      <td>2883</td>\n",
       "      <td>Kill Bill Collection</td>\n",
       "      <td>/tf1nUtw3LJGUGv1EFFi23iz6ngr.jpg</td>\n",
       "      <td>/oCLKNACMNrEf4T1EP6BpMXDl5m1.jpg</td>\n",
       "      <td>Aniplex</td>\n",
       "      <td>Aniplex</td>\n",
       "    </tr>\n",
       "    <tr>\n",
       "      <th>1</th>\n",
       "      <td>2883</td>\n",
       "      <td>Kill Bill Collection</td>\n",
       "      <td>/tf1nUtw3LJGUGv1EFFi23iz6ngr.jpg</td>\n",
       "      <td>/oCLKNACMNrEf4T1EP6BpMXDl5m1.jpg</td>\n",
       "      <td>Aniplex</td>\n",
       "      <td>Aniplex</td>\n",
       "    </tr>\n",
       "    <tr>\n",
       "      <th>2</th>\n",
       "      <td>2883</td>\n",
       "      <td>Kill Bill Collection</td>\n",
       "      <td>/tf1nUtw3LJGUGv1EFFi23iz6ngr.jpg</td>\n",
       "      <td>/oCLKNACMNrEf4T1EP6BpMXDl5m1.jpg</td>\n",
       "      <td>Aniplex</td>\n",
       "      <td>Aniplex</td>\n",
       "    </tr>\n",
       "    <tr>\n",
       "      <th>3</th>\n",
       "      <td>2883</td>\n",
       "      <td>Kill Bill Collection</td>\n",
       "      <td>/tf1nUtw3LJGUGv1EFFi23iz6ngr.jpg</td>\n",
       "      <td>/oCLKNACMNrEf4T1EP6BpMXDl5m1.jpg</td>\n",
       "      <td>Aniplex</td>\n",
       "      <td>Aniplex</td>\n",
       "    </tr>\n",
       "    <tr>\n",
       "      <th>4</th>\n",
       "      <td>2883</td>\n",
       "      <td>Kill Bill Collection</td>\n",
       "      <td>/tf1nUtw3LJGUGv1EFFi23iz6ngr.jpg</td>\n",
       "      <td>/oCLKNACMNrEf4T1EP6BpMXDl5m1.jpg</td>\n",
       "      <td>Aniplex</td>\n",
       "      <td>Aniplex</td>\n",
       "    </tr>\n",
       "    <tr>\n",
       "      <th>5</th>\n",
       "      <td>2883</td>\n",
       "      <td>Kill Bill Collection</td>\n",
       "      <td>/tf1nUtw3LJGUGv1EFFi23iz6ngr.jpg</td>\n",
       "      <td>/oCLKNACMNrEf4T1EP6BpMXDl5m1.jpg</td>\n",
       "      <td>Aniplex</td>\n",
       "      <td>Aniplex</td>\n",
       "    </tr>\n",
       "    <tr>\n",
       "      <th>6</th>\n",
       "      <td>2883</td>\n",
       "      <td>Kill Bill Collection</td>\n",
       "      <td>/tf1nUtw3LJGUGv1EFFi23iz6ngr.jpg</td>\n",
       "      <td>/oCLKNACMNrEf4T1EP6BpMXDl5m1.jpg</td>\n",
       "      <td>Aniplex</td>\n",
       "      <td>Aniplex</td>\n",
       "    </tr>\n",
       "    <tr>\n",
       "      <th>7</th>\n",
       "      <td>2883</td>\n",
       "      <td>Kill Bill Collection</td>\n",
       "      <td>/tf1nUtw3LJGUGv1EFFi23iz6ngr.jpg</td>\n",
       "      <td>/oCLKNACMNrEf4T1EP6BpMXDl5m1.jpg</td>\n",
       "      <td>Aniplex</td>\n",
       "      <td>Aniplex</td>\n",
       "    </tr>\n",
       "    <tr>\n",
       "      <th>8</th>\n",
       "      <td>2883</td>\n",
       "      <td>Kill Bill Collection</td>\n",
       "      <td>/tf1nUtw3LJGUGv1EFFi23iz6ngr.jpg</td>\n",
       "      <td>/oCLKNACMNrEf4T1EP6BpMXDl5m1.jpg</td>\n",
       "      <td>Aniplex</td>\n",
       "      <td>Aniplex</td>\n",
       "    </tr>\n",
       "    <tr>\n",
       "      <th>9</th>\n",
       "      <td>2883</td>\n",
       "      <td>Kill Bill Collection</td>\n",
       "      <td>/tf1nUtw3LJGUGv1EFFi23iz6ngr.jpg</td>\n",
       "      <td>/oCLKNACMNrEf4T1EP6BpMXDl5m1.jpg</td>\n",
       "      <td>Aniplex</td>\n",
       "      <td>Aniplex</td>\n",
       "    </tr>\n",
       "    <tr>\n",
       "      <th>10</th>\n",
       "      <td>2883</td>\n",
       "      <td>Kill Bill Collection</td>\n",
       "      <td>/tf1nUtw3LJGUGv1EFFi23iz6ngr.jpg</td>\n",
       "      <td>/oCLKNACMNrEf4T1EP6BpMXDl5m1.jpg</td>\n",
       "      <td>Aniplex</td>\n",
       "      <td>Aniplex</td>\n",
       "    </tr>\n",
       "    <tr>\n",
       "      <th>11</th>\n",
       "      <td>2883</td>\n",
       "      <td>Kill Bill Collection</td>\n",
       "      <td>/tf1nUtw3LJGUGv1EFFi23iz6ngr.jpg</td>\n",
       "      <td>/oCLKNACMNrEf4T1EP6BpMXDl5m1.jpg</td>\n",
       "      <td>Aniplex</td>\n",
       "      <td>Aniplex</td>\n",
       "    </tr>\n",
       "    <tr>\n",
       "      <th>12</th>\n",
       "      <td>2883</td>\n",
       "      <td>Kill Bill Collection</td>\n",
       "      <td>/tf1nUtw3LJGUGv1EFFi23iz6ngr.jpg</td>\n",
       "      <td>/oCLKNACMNrEf4T1EP6BpMXDl5m1.jpg</td>\n",
       "      <td>Aniplex</td>\n",
       "      <td>Aniplex</td>\n",
       "    </tr>\n",
       "    <tr>\n",
       "      <th>13</th>\n",
       "      <td>2883</td>\n",
       "      <td>Kill Bill Collection</td>\n",
       "      <td>/tf1nUtw3LJGUGv1EFFi23iz6ngr.jpg</td>\n",
       "      <td>/oCLKNACMNrEf4T1EP6BpMXDl5m1.jpg</td>\n",
       "      <td>Aniplex</td>\n",
       "      <td>Aniplex</td>\n",
       "    </tr>\n",
       "    <tr>\n",
       "      <th>14</th>\n",
       "      <td>2883</td>\n",
       "      <td>Kill Bill Collection</td>\n",
       "      <td>/tf1nUtw3LJGUGv1EFFi23iz6ngr.jpg</td>\n",
       "      <td>/oCLKNACMNrEf4T1EP6BpMXDl5m1.jpg</td>\n",
       "      <td>Aniplex</td>\n",
       "      <td>Aniplex</td>\n",
       "    </tr>\n",
       "    <tr>\n",
       "      <th>15</th>\n",
       "      <td>2883</td>\n",
       "      <td>Kill Bill Collection</td>\n",
       "      <td>/tf1nUtw3LJGUGv1EFFi23iz6ngr.jpg</td>\n",
       "      <td>/oCLKNACMNrEf4T1EP6BpMXDl5m1.jpg</td>\n",
       "      <td>Aniplex</td>\n",
       "      <td>Aniplex</td>\n",
       "    </tr>\n",
       "    <tr>\n",
       "      <th>16</th>\n",
       "      <td>2883</td>\n",
       "      <td>Kill Bill Collection</td>\n",
       "      <td>/tf1nUtw3LJGUGv1EFFi23iz6ngr.jpg</td>\n",
       "      <td>/oCLKNACMNrEf4T1EP6BpMXDl5m1.jpg</td>\n",
       "      <td>Aniplex</td>\n",
       "      <td>Aniplex</td>\n",
       "    </tr>\n",
       "    <tr>\n",
       "      <th>17</th>\n",
       "      <td>2883</td>\n",
       "      <td>Kill Bill Collection</td>\n",
       "      <td>/tf1nUtw3LJGUGv1EFFi23iz6ngr.jpg</td>\n",
       "      <td>/oCLKNACMNrEf4T1EP6BpMXDl5m1.jpg</td>\n",
       "      <td>Aniplex</td>\n",
       "      <td>Aniplex</td>\n",
       "    </tr>\n",
       "    <tr>\n",
       "      <th>18</th>\n",
       "      <td>2883</td>\n",
       "      <td>Kill Bill Collection</td>\n",
       "      <td>/tf1nUtw3LJGUGv1EFFi23iz6ngr.jpg</td>\n",
       "      <td>/oCLKNACMNrEf4T1EP6BpMXDl5m1.jpg</td>\n",
       "      <td>Aniplex</td>\n",
       "      <td>Aniplex</td>\n",
       "    </tr>\n",
       "    <tr>\n",
       "      <th>19</th>\n",
       "      <td>2883</td>\n",
       "      <td>Kill Bill Collection</td>\n",
       "      <td>/tf1nUtw3LJGUGv1EFFi23iz6ngr.jpg</td>\n",
       "      <td>/oCLKNACMNrEf4T1EP6BpMXDl5m1.jpg</td>\n",
       "      <td>Aniplex</td>\n",
       "      <td>Aniplex</td>\n",
       "    </tr>\n",
       "    <tr>\n",
       "      <th>20</th>\n",
       "      <td>2883</td>\n",
       "      <td>Kill Bill Collection</td>\n",
       "      <td>/tf1nUtw3LJGUGv1EFFi23iz6ngr.jpg</td>\n",
       "      <td>/oCLKNACMNrEf4T1EP6BpMXDl5m1.jpg</td>\n",
       "      <td>Aniplex</td>\n",
       "      <td>Aniplex</td>\n",
       "    </tr>\n",
       "    <tr>\n",
       "      <th>21</th>\n",
       "      <td>2883</td>\n",
       "      <td>Kill Bill Collection</td>\n",
       "      <td>/tf1nUtw3LJGUGv1EFFi23iz6ngr.jpg</td>\n",
       "      <td>/oCLKNACMNrEf4T1EP6BpMXDl5m1.jpg</td>\n",
       "      <td>Aniplex</td>\n",
       "      <td>Aniplex</td>\n",
       "    </tr>\n",
       "    <tr>\n",
       "      <th>22</th>\n",
       "      <td>2883</td>\n",
       "      <td>Kill Bill Collection</td>\n",
       "      <td>/tf1nUtw3LJGUGv1EFFi23iz6ngr.jpg</td>\n",
       "      <td>/oCLKNACMNrEf4T1EP6BpMXDl5m1.jpg</td>\n",
       "      <td>Aniplex</td>\n",
       "      <td>Aniplex</td>\n",
       "    </tr>\n",
       "    <tr>\n",
       "      <th>23</th>\n",
       "      <td>2883</td>\n",
       "      <td>Kill Bill Collection</td>\n",
       "      <td>/tf1nUtw3LJGUGv1EFFi23iz6ngr.jpg</td>\n",
       "      <td>/oCLKNACMNrEf4T1EP6BpMXDl5m1.jpg</td>\n",
       "      <td>Aniplex</td>\n",
       "      <td>Aniplex</td>\n",
       "    </tr>\n",
       "    <tr>\n",
       "      <th>24</th>\n",
       "      <td>2883</td>\n",
       "      <td>Kill Bill Collection</td>\n",
       "      <td>/tf1nUtw3LJGUGv1EFFi23iz6ngr.jpg</td>\n",
       "      <td>/oCLKNACMNrEf4T1EP6BpMXDl5m1.jpg</td>\n",
       "      <td>Aniplex</td>\n",
       "      <td>Aniplex</td>\n",
       "    </tr>\n",
       "    <tr>\n",
       "      <th>25</th>\n",
       "      <td>2883</td>\n",
       "      <td>Kill Bill Collection</td>\n",
       "      <td>/tf1nUtw3LJGUGv1EFFi23iz6ngr.jpg</td>\n",
       "      <td>/oCLKNACMNrEf4T1EP6BpMXDl5m1.jpg</td>\n",
       "      <td>Aniplex</td>\n",
       "      <td>Aniplex</td>\n",
       "    </tr>\n",
       "    <tr>\n",
       "      <th>26</th>\n",
       "      <td>2883</td>\n",
       "      <td>Kill Bill Collection</td>\n",
       "      <td>/tf1nUtw3LJGUGv1EFFi23iz6ngr.jpg</td>\n",
       "      <td>/oCLKNACMNrEf4T1EP6BpMXDl5m1.jpg</td>\n",
       "      <td>Aniplex</td>\n",
       "      <td>Aniplex</td>\n",
       "    </tr>\n",
       "    <tr>\n",
       "      <th>27</th>\n",
       "      <td>2883</td>\n",
       "      <td>Kill Bill Collection</td>\n",
       "      <td>/tf1nUtw3LJGUGv1EFFi23iz6ngr.jpg</td>\n",
       "      <td>/oCLKNACMNrEf4T1EP6BpMXDl5m1.jpg</td>\n",
       "      <td>Aniplex</td>\n",
       "      <td>Aniplex</td>\n",
       "    </tr>\n",
       "    <tr>\n",
       "      <th>28</th>\n",
       "      <td>2883</td>\n",
       "      <td>Kill Bill Collection</td>\n",
       "      <td>/tf1nUtw3LJGUGv1EFFi23iz6ngr.jpg</td>\n",
       "      <td>/oCLKNACMNrEf4T1EP6BpMXDl5m1.jpg</td>\n",
       "      <td>Aniplex</td>\n",
       "      <td>Aniplex</td>\n",
       "    </tr>\n",
       "    <tr>\n",
       "      <th>29</th>\n",
       "      <td>2883</td>\n",
       "      <td>Kill Bill Collection</td>\n",
       "      <td>/tf1nUtw3LJGUGv1EFFi23iz6ngr.jpg</td>\n",
       "      <td>/oCLKNACMNrEf4T1EP6BpMXDl5m1.jpg</td>\n",
       "      <td>Aniplex</td>\n",
       "      <td>Aniplex</td>\n",
       "    </tr>\n",
       "  </tbody>\n",
       "</table>\n",
       "</div>"
      ],
      "text/plain": [
       "      id                  name                       poster_path  \\\n",
       "0   2883  Kill Bill Collection  /tf1nUtw3LJGUGv1EFFi23iz6ngr.jpg   \n",
       "1   2883  Kill Bill Collection  /tf1nUtw3LJGUGv1EFFi23iz6ngr.jpg   \n",
       "2   2883  Kill Bill Collection  /tf1nUtw3LJGUGv1EFFi23iz6ngr.jpg   \n",
       "3   2883  Kill Bill Collection  /tf1nUtw3LJGUGv1EFFi23iz6ngr.jpg   \n",
       "4   2883  Kill Bill Collection  /tf1nUtw3LJGUGv1EFFi23iz6ngr.jpg   \n",
       "5   2883  Kill Bill Collection  /tf1nUtw3LJGUGv1EFFi23iz6ngr.jpg   \n",
       "6   2883  Kill Bill Collection  /tf1nUtw3LJGUGv1EFFi23iz6ngr.jpg   \n",
       "7   2883  Kill Bill Collection  /tf1nUtw3LJGUGv1EFFi23iz6ngr.jpg   \n",
       "8   2883  Kill Bill Collection  /tf1nUtw3LJGUGv1EFFi23iz6ngr.jpg   \n",
       "9   2883  Kill Bill Collection  /tf1nUtw3LJGUGv1EFFi23iz6ngr.jpg   \n",
       "10  2883  Kill Bill Collection  /tf1nUtw3LJGUGv1EFFi23iz6ngr.jpg   \n",
       "11  2883  Kill Bill Collection  /tf1nUtw3LJGUGv1EFFi23iz6ngr.jpg   \n",
       "12  2883  Kill Bill Collection  /tf1nUtw3LJGUGv1EFFi23iz6ngr.jpg   \n",
       "13  2883  Kill Bill Collection  /tf1nUtw3LJGUGv1EFFi23iz6ngr.jpg   \n",
       "14  2883  Kill Bill Collection  /tf1nUtw3LJGUGv1EFFi23iz6ngr.jpg   \n",
       "15  2883  Kill Bill Collection  /tf1nUtw3LJGUGv1EFFi23iz6ngr.jpg   \n",
       "16  2883  Kill Bill Collection  /tf1nUtw3LJGUGv1EFFi23iz6ngr.jpg   \n",
       "17  2883  Kill Bill Collection  /tf1nUtw3LJGUGv1EFFi23iz6ngr.jpg   \n",
       "18  2883  Kill Bill Collection  /tf1nUtw3LJGUGv1EFFi23iz6ngr.jpg   \n",
       "19  2883  Kill Bill Collection  /tf1nUtw3LJGUGv1EFFi23iz6ngr.jpg   \n",
       "20  2883  Kill Bill Collection  /tf1nUtw3LJGUGv1EFFi23iz6ngr.jpg   \n",
       "21  2883  Kill Bill Collection  /tf1nUtw3LJGUGv1EFFi23iz6ngr.jpg   \n",
       "22  2883  Kill Bill Collection  /tf1nUtw3LJGUGv1EFFi23iz6ngr.jpg   \n",
       "23  2883  Kill Bill Collection  /tf1nUtw3LJGUGv1EFFi23iz6ngr.jpg   \n",
       "24  2883  Kill Bill Collection  /tf1nUtw3LJGUGv1EFFi23iz6ngr.jpg   \n",
       "25  2883  Kill Bill Collection  /tf1nUtw3LJGUGv1EFFi23iz6ngr.jpg   \n",
       "26  2883  Kill Bill Collection  /tf1nUtw3LJGUGv1EFFi23iz6ngr.jpg   \n",
       "27  2883  Kill Bill Collection  /tf1nUtw3LJGUGv1EFFi23iz6ngr.jpg   \n",
       "28  2883  Kill Bill Collection  /tf1nUtw3LJGUGv1EFFi23iz6ngr.jpg   \n",
       "29  2883  Kill Bill Collection  /tf1nUtw3LJGUGv1EFFi23iz6ngr.jpg   \n",
       "\n",
       "                       backdrop_path    genre companies  \n",
       "0   /oCLKNACMNrEf4T1EP6BpMXDl5m1.jpg  Aniplex   Aniplex  \n",
       "1   /oCLKNACMNrEf4T1EP6BpMXDl5m1.jpg  Aniplex   Aniplex  \n",
       "2   /oCLKNACMNrEf4T1EP6BpMXDl5m1.jpg  Aniplex   Aniplex  \n",
       "3   /oCLKNACMNrEf4T1EP6BpMXDl5m1.jpg  Aniplex   Aniplex  \n",
       "4   /oCLKNACMNrEf4T1EP6BpMXDl5m1.jpg  Aniplex   Aniplex  \n",
       "5   /oCLKNACMNrEf4T1EP6BpMXDl5m1.jpg  Aniplex   Aniplex  \n",
       "6   /oCLKNACMNrEf4T1EP6BpMXDl5m1.jpg  Aniplex   Aniplex  \n",
       "7   /oCLKNACMNrEf4T1EP6BpMXDl5m1.jpg  Aniplex   Aniplex  \n",
       "8   /oCLKNACMNrEf4T1EP6BpMXDl5m1.jpg  Aniplex   Aniplex  \n",
       "9   /oCLKNACMNrEf4T1EP6BpMXDl5m1.jpg  Aniplex   Aniplex  \n",
       "10  /oCLKNACMNrEf4T1EP6BpMXDl5m1.jpg  Aniplex   Aniplex  \n",
       "11  /oCLKNACMNrEf4T1EP6BpMXDl5m1.jpg  Aniplex   Aniplex  \n",
       "12  /oCLKNACMNrEf4T1EP6BpMXDl5m1.jpg  Aniplex   Aniplex  \n",
       "13  /oCLKNACMNrEf4T1EP6BpMXDl5m1.jpg  Aniplex   Aniplex  \n",
       "14  /oCLKNACMNrEf4T1EP6BpMXDl5m1.jpg  Aniplex   Aniplex  \n",
       "15  /oCLKNACMNrEf4T1EP6BpMXDl5m1.jpg  Aniplex   Aniplex  \n",
       "16  /oCLKNACMNrEf4T1EP6BpMXDl5m1.jpg  Aniplex   Aniplex  \n",
       "17  /oCLKNACMNrEf4T1EP6BpMXDl5m1.jpg  Aniplex   Aniplex  \n",
       "18  /oCLKNACMNrEf4T1EP6BpMXDl5m1.jpg  Aniplex   Aniplex  \n",
       "19  /oCLKNACMNrEf4T1EP6BpMXDl5m1.jpg  Aniplex   Aniplex  \n",
       "20  /oCLKNACMNrEf4T1EP6BpMXDl5m1.jpg  Aniplex   Aniplex  \n",
       "21  /oCLKNACMNrEf4T1EP6BpMXDl5m1.jpg  Aniplex   Aniplex  \n",
       "22  /oCLKNACMNrEf4T1EP6BpMXDl5m1.jpg  Aniplex   Aniplex  \n",
       "23  /oCLKNACMNrEf4T1EP6BpMXDl5m1.jpg  Aniplex   Aniplex  \n",
       "24  /oCLKNACMNrEf4T1EP6BpMXDl5m1.jpg  Aniplex   Aniplex  \n",
       "25  /oCLKNACMNrEf4T1EP6BpMXDl5m1.jpg  Aniplex   Aniplex  \n",
       "26  /oCLKNACMNrEf4T1EP6BpMXDl5m1.jpg  Aniplex   Aniplex  \n",
       "27  /oCLKNACMNrEf4T1EP6BpMXDl5m1.jpg  Aniplex   Aniplex  \n",
       "28  /oCLKNACMNrEf4T1EP6BpMXDl5m1.jpg  Aniplex   Aniplex  \n",
       "29  /oCLKNACMNrEf4T1EP6BpMXDl5m1.jpg  Aniplex   Aniplex  "
      ]
     },
     "execution_count": 68,
     "metadata": {},
     "output_type": "execute_result"
    }
   ],
   "source": [
    "df_interseccion = pd.merge(df_btc,df_genres, on='id').merge(df_production_companies, on='id')\n",
    "df_interseccion"
   ]
  },
  {
   "cell_type": "code",
   "execution_count": 73,
   "metadata": {},
   "outputs": [
    {
     "data": {
      "text/plain": [
       "0        10194\n",
       "1       119050\n",
       "2        96871\n",
       "3          645\n",
       "4       117693\n",
       "         ...  \n",
       "4483     37261\n",
       "4484     37261\n",
       "4485     37261\n",
       "4486    477208\n",
       "4487    200641\n",
       "Name: id, Length: 4488, dtype: int64"
      ]
     },
     "execution_count": 73,
     "metadata": {},
     "output_type": "execute_result"
    }
   ],
   "source": [
    "df_btc[\"id\"]"
   ]
  },
  {
   "cell_type": "code",
   "execution_count": 71,
   "metadata": {},
   "outputs": [
    {
     "data": {
      "text/plain": [
       "0           16\n",
       "1           35\n",
       "2        10751\n",
       "3           12\n",
       "4           14\n",
       "         ...  \n",
       "91101    10751\n",
       "91102       18\n",
       "91103       28\n",
       "91104       18\n",
       "91105       53\n",
       "Name: id, Length: 91106, dtype: int64"
      ]
     },
     "execution_count": 71,
     "metadata": {},
     "output_type": "execute_result"
    }
   ],
   "source": [
    "df_genres['id']"
   ]
  },
  {
   "cell_type": "code",
   "execution_count": 74,
   "metadata": {},
   "outputs": [
    {
     "data": {
      "text/plain": [
       "0            3\n",
       "1          559\n",
       "2         2550\n",
       "3        10201\n",
       "4         6194\n",
       "         ...  \n",
       "70539    10163\n",
       "70540    16323\n",
       "70541    38978\n",
       "70542    19653\n",
       "70543     6165\n",
       "Name: id, Length: 70544, dtype: int64"
      ]
     },
     "execution_count": 74,
     "metadata": {},
     "output_type": "execute_result"
    }
   ],
   "source": [
    "df_production_companies[\"id\"]"
   ]
  },
  {
   "attachments": {},
   "cell_type": "markdown",
   "metadata": {},
   "source": [
    "**NOTA:** Me di cuenta que los id no coinciden entre columnas creadas entonces..."
   ]
  },
  {
   "cell_type": "code",
   "execution_count": 75,
   "metadata": {},
   "outputs": [],
   "source": [
    "df_a_transformar = df_a_transformar.drop(['genres', 'belongs_to_collection', 'production_companies'], axis=1)"
   ]
  },
  {
   "cell_type": "code",
   "execution_count": 96,
   "metadata": {},
   "outputs": [],
   "source": [
    "lista_id = df_a_transformar['id'].tolist()"
   ]
  },
  {
   "cell_type": "code",
   "execution_count": null,
   "metadata": {},
   "outputs": [],
   "source": [
    "#19730 29502 35585"
   ]
  },
  {
   "cell_type": "code",
   "execution_count": 97,
   "metadata": {},
   "outputs": [
    {
     "data": {
      "text/plain": [
       "'2014-01-01'"
      ]
     },
     "execution_count": 97,
     "metadata": {},
     "output_type": "execute_result"
    }
   ],
   "source": [
    "lista_id.pop(19730)\n",
    "lista_id.pop(29502)\n",
    "lista_id.pop(35585)"
   ]
  },
  {
   "cell_type": "code",
   "execution_count": 99,
   "metadata": {},
   "outputs": [
    {
     "name": "stdout",
     "output_type": "stream",
     "text": [
      "125022\n"
     ]
    }
   ],
   "source": [
    "for i in range(len(lista_id)):\n",
    "    lista_id.append(eval(str(lista_id[i])))\n",
    "\n",
    "i=0\n",
    "for item in lista_id:\n",
    "    if type(item) != int:\n",
    "        lista_id.remove(item)\n",
    "    i+=1\n",
    "print(i)\n"
   ]
  },
  {
   "cell_type": "code",
   "execution_count": 106,
   "metadata": {},
   "outputs": [
    {
     "data": {
      "text/plain": [
       "id    \n",
       "141971    8\n",
       "168538    6\n",
       "5511      6\n",
       "25541     6\n",
       "12600     6\n",
       "         ..\n",
       "227       1\n",
       "2270      1\n",
       "22701     1\n",
       "227077    1\n",
       "9997      1\n",
       "Length: 56797, dtype: int64"
      ]
     },
     "execution_count": 106,
     "metadata": {},
     "output_type": "execute_result"
    }
   ],
   "source": [
    "df_id=pd.DataFrame(lista_id)\n",
    "df_id.columns=['id']\n",
    "df_id.value_counts()"
   ]
  },
  {
   "cell_type": "code",
   "execution_count": 104,
   "metadata": {},
   "outputs": [
    {
     "data": {
      "text/plain": [
       "(45468, 21)"
      ]
     },
     "execution_count": 104,
     "metadata": {},
     "output_type": "execute_result"
    }
   ],
   "source": [
    "df_prueba1=pd.merge(df_a_transformar,df_id, on='id', how='left')\n",
    "df_prueba1.shape"
   ]
  },
  {
   "cell_type": "code",
   "execution_count": 105,
   "metadata": {},
   "outputs": [
    {
     "data": {
      "text/plain": [
       "(45466, 21)"
      ]
     },
     "execution_count": 105,
     "metadata": {},
     "output_type": "execute_result"
    }
   ],
   "source": [
    "df_a_transformar.shape"
   ]
  }
 ],
 "metadata": {
  "kernelspec": {
   "display_name": "Python 3",
   "language": "python",
   "name": "python3"
  },
  "language_info": {
   "codemirror_mode": {
    "name": "ipython",
    "version": 3
   },
   "file_extension": ".py",
   "mimetype": "text/x-python",
   "name": "python",
   "nbconvert_exporter": "python",
   "pygments_lexer": "ipython3",
   "version": "3.10.11"
  },
  "orig_nbformat": 4
 },
 "nbformat": 4,
 "nbformat_minor": 2
}
