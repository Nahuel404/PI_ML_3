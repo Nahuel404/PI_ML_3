{
 "cells": [
  {
   "attachments": {},
   "cell_type": "markdown",
   "metadata": {},
   "source": [
    "# Bienvenido al Notebook de Transformaciones\n",
    "Acá vas a ver todas las transformaciones básicas para poner a funcionar el dataset que en un principio estaba casi inutilizable o muy difícil de acceder, lo que hago acá es disponibilizar los datos"
   ]
  },
  {
   "cell_type": "code",
   "execution_count": 1,
   "metadata": {},
   "outputs": [],
   "source": [
    "import pandas as pd #Importo las librerías que voy a utilizar, solo pandas..."
   ]
  },
  {
   "cell_type": "code",
   "execution_count": 2,
   "metadata": {},
   "outputs": [
    {
     "name": "stderr",
     "output_type": "stream",
     "text": [
      "C:\\Users\\yesen\\AppData\\Local\\Temp\\ipykernel_13572\\4105753216.py:1: DtypeWarning: Columns (10) have mixed types. Specify dtype option on import or set low_memory=False.\n",
      "  df_a_transformar = pd.read_csv('./datasets/movies_dataset.csv') #Accedo al csv entre mis archivos con la ruta relativa\n"
     ]
    },
    {
     "data": {
      "text/html": [
       "<div>\n",
       "<style scoped>\n",
       "    .dataframe tbody tr th:only-of-type {\n",
       "        vertical-align: middle;\n",
       "    }\n",
       "\n",
       "    .dataframe tbody tr th {\n",
       "        vertical-align: top;\n",
       "    }\n",
       "\n",
       "    .dataframe thead th {\n",
       "        text-align: right;\n",
       "    }\n",
       "</style>\n",
       "<table border=\"1\" class=\"dataframe\">\n",
       "  <thead>\n",
       "    <tr style=\"text-align: right;\">\n",
       "      <th></th>\n",
       "      <th>adult</th>\n",
       "      <th>belongs_to_collection</th>\n",
       "      <th>budget</th>\n",
       "      <th>genres</th>\n",
       "      <th>homepage</th>\n",
       "      <th>id</th>\n",
       "      <th>imdb_id</th>\n",
       "      <th>original_language</th>\n",
       "      <th>original_title</th>\n",
       "      <th>overview</th>\n",
       "      <th>...</th>\n",
       "      <th>release_date</th>\n",
       "      <th>revenue</th>\n",
       "      <th>runtime</th>\n",
       "      <th>spoken_languages</th>\n",
       "      <th>status</th>\n",
       "      <th>tagline</th>\n",
       "      <th>title</th>\n",
       "      <th>video</th>\n",
       "      <th>vote_average</th>\n",
       "      <th>vote_count</th>\n",
       "    </tr>\n",
       "  </thead>\n",
       "  <tbody>\n",
       "    <tr>\n",
       "      <th>0</th>\n",
       "      <td>False</td>\n",
       "      <td>{'id': 10194, 'name': 'Toy Story Collection', ...</td>\n",
       "      <td>30000000</td>\n",
       "      <td>[{'id': 16, 'name': 'Animation'}, {'id': 35, '...</td>\n",
       "      <td>http://toystory.disney.com/toy-story</td>\n",
       "      <td>862</td>\n",
       "      <td>tt0114709</td>\n",
       "      <td>en</td>\n",
       "      <td>Toy Story</td>\n",
       "      <td>Led by Woody, Andy's toys live happily in his ...</td>\n",
       "      <td>...</td>\n",
       "      <td>1995-10-30</td>\n",
       "      <td>373554033.0</td>\n",
       "      <td>81.0</td>\n",
       "      <td>[{'iso_639_1': 'en', 'name': 'English'}]</td>\n",
       "      <td>Released</td>\n",
       "      <td>NaN</td>\n",
       "      <td>Toy Story</td>\n",
       "      <td>False</td>\n",
       "      <td>7.7</td>\n",
       "      <td>5415.0</td>\n",
       "    </tr>\n",
       "    <tr>\n",
       "      <th>1</th>\n",
       "      <td>False</td>\n",
       "      <td>NaN</td>\n",
       "      <td>65000000</td>\n",
       "      <td>[{'id': 12, 'name': 'Adventure'}, {'id': 14, '...</td>\n",
       "      <td>NaN</td>\n",
       "      <td>8844</td>\n",
       "      <td>tt0113497</td>\n",
       "      <td>en</td>\n",
       "      <td>Jumanji</td>\n",
       "      <td>When siblings Judy and Peter discover an encha...</td>\n",
       "      <td>...</td>\n",
       "      <td>1995-12-15</td>\n",
       "      <td>262797249.0</td>\n",
       "      <td>104.0</td>\n",
       "      <td>[{'iso_639_1': 'en', 'name': 'English'}, {'iso...</td>\n",
       "      <td>Released</td>\n",
       "      <td>Roll the dice and unleash the excitement!</td>\n",
       "      <td>Jumanji</td>\n",
       "      <td>False</td>\n",
       "      <td>6.9</td>\n",
       "      <td>2413.0</td>\n",
       "    </tr>\n",
       "  </tbody>\n",
       "</table>\n",
       "<p>2 rows × 24 columns</p>\n",
       "</div>"
      ],
      "text/plain": [
       "   adult                              belongs_to_collection    budget  \\\n",
       "0  False  {'id': 10194, 'name': 'Toy Story Collection', ...  30000000   \n",
       "1  False                                                NaN  65000000   \n",
       "\n",
       "                                              genres  \\\n",
       "0  [{'id': 16, 'name': 'Animation'}, {'id': 35, '...   \n",
       "1  [{'id': 12, 'name': 'Adventure'}, {'id': 14, '...   \n",
       "\n",
       "                               homepage    id    imdb_id original_language  \\\n",
       "0  http://toystory.disney.com/toy-story   862  tt0114709                en   \n",
       "1                                   NaN  8844  tt0113497                en   \n",
       "\n",
       "  original_title                                           overview  ...  \\\n",
       "0      Toy Story  Led by Woody, Andy's toys live happily in his ...  ...   \n",
       "1        Jumanji  When siblings Judy and Peter discover an encha...  ...   \n",
       "\n",
       "  release_date      revenue runtime  \\\n",
       "0   1995-10-30  373554033.0    81.0   \n",
       "1   1995-12-15  262797249.0   104.0   \n",
       "\n",
       "                                    spoken_languages    status  \\\n",
       "0           [{'iso_639_1': 'en', 'name': 'English'}]  Released   \n",
       "1  [{'iso_639_1': 'en', 'name': 'English'}, {'iso...  Released   \n",
       "\n",
       "                                     tagline      title  video vote_average  \\\n",
       "0                                        NaN  Toy Story  False          7.7   \n",
       "1  Roll the dice and unleash the excitement!    Jumanji  False          6.9   \n",
       "\n",
       "  vote_count  \n",
       "0     5415.0  \n",
       "1     2413.0  \n",
       "\n",
       "[2 rows x 24 columns]"
      ]
     },
     "execution_count": 2,
     "metadata": {},
     "output_type": "execute_result"
    }
   ],
   "source": [
    "df_a_transformar = pd.read_csv('./datasets/movies_dataset.csv') #Accedo al csv entre mis archivos con la ruta relativa\n",
    "df_a_transformar.head(2)"
   ]
  },
  {
   "attachments": {},
   "cell_type": "markdown",
   "metadata": {},
   "source": [
    "### Accedo a las columnas con diccionarios anidados\n",
    "Primero quiero disponibilizar los datos que serían los más difíciles de acceder en el caso de que se mantengan como están. "
   ]
  },
  {
   "cell_type": "code",
   "execution_count": 3,
   "metadata": {},
   "outputs": [
    {
     "data": {
      "text/plain": [
       "0    {'id': 10194, 'name': 'Toy Story Collection', ...\n",
       "1                                                  NaN\n",
       "2    {'id': 119050, 'name': 'Grumpy Old Men Collect...\n",
       "3                                                  NaN\n",
       "4    {'id': 96871, 'name': 'Father of the Bride Col...\n",
       "Name: belongs_to_collection, dtype: object"
      ]
     },
     "execution_count": 3,
     "metadata": {},
     "output_type": "execute_result"
    }
   ],
   "source": [
    "df_btc = df_a_transformar['belongs_to_collection'] #Comenzamos con una de las columnas que tiene los diccionarios(\"belngs_to_collection\")\n",
    "df_btc.head(5)"
   ]
  },
  {
   "cell_type": "code",
   "execution_count": 4,
   "metadata": {},
   "outputs": [],
   "source": [
    "df_btc = df_btc.dropna()#Borro nulos"
   ]
  },
  {
   "cell_type": "code",
   "execution_count": 5,
   "metadata": {},
   "outputs": [
    {
     "data": {
      "text/plain": [
       "0     {'id': 10194, 'name': 'Toy Story Collection', ...\n",
       "2     {'id': 119050, 'name': 'Grumpy Old Men Collect...\n",
       "4     {'id': 96871, 'name': 'Father of the Bride Col...\n",
       "9     {'id': 645, 'name': 'James Bond Collection', '...\n",
       "12    {'id': 117693, 'name': 'Balto Collection', 'po...\n",
       "Name: belongs_to_collection, dtype: object"
      ]
     },
     "execution_count": 5,
     "metadata": {},
     "output_type": "execute_result"
    }
   ],
   "source": [
    "df_btc.head()"
   ]
  },
  {
   "cell_type": "code",
   "execution_count": 6,
   "metadata": {},
   "outputs": [],
   "source": [
    "dict_list = df_btc.apply(eval).tolist() #Creo una lista con el dataframe para trabajarlo con python puro, dado que es mas sencillo para mi"
   ]
  },
  {
   "cell_type": "code",
   "execution_count": 11,
   "metadata": {},
   "outputs": [
    {
     "name": "stdout",
     "output_type": "stream",
     "text": [
      "2.185485\n",
      "[3809]\n"
     ]
    }
   ],
   "source": [
    "in_list=[] #Creo una lista para los indices de los elementos que no sean diccionarios\n",
    "for i in range(len(dict_list)):\n",
    "    if not type(dict_list[i]) == dict: #Verifico que los elementos sean diccionarios y en el caso de que no lo sean se agregaran a una lista para posteriormente ser eliminados\n",
    "        print(dict_list[i])\n",
    "        in_list.append(i)\n",
    "\n",
    "print(in_list)"
   ]
  },
  {
   "cell_type": "code",
   "execution_count": 12,
   "metadata": {},
   "outputs": [],
   "source": [
    "for i in range(len(in_list)): #Elimino los elementos que no sean diccionarios\n",
    "    del dict_list[in_list[i]]"
   ]
  },
  {
   "cell_type": "code",
   "execution_count": 13,
   "metadata": {},
   "outputs": [],
   "source": [
    "df_btc = pd.DataFrame(dict_list, columns=['id', 'name', 'poster_path', 'backdrop_path']) #Creo el dataframe con los datos de los diccionarios tomando cada key como columna"
   ]
  },
  {
   "cell_type": "code",
   "execution_count": 14,
   "metadata": {},
   "outputs": [
    {
     "data": {
      "text/html": [
       "<div>\n",
       "<style scoped>\n",
       "    .dataframe tbody tr th:only-of-type {\n",
       "        vertical-align: middle;\n",
       "    }\n",
       "\n",
       "    .dataframe tbody tr th {\n",
       "        vertical-align: top;\n",
       "    }\n",
       "\n",
       "    .dataframe thead th {\n",
       "        text-align: right;\n",
       "    }\n",
       "</style>\n",
       "<table border=\"1\" class=\"dataframe\">\n",
       "  <thead>\n",
       "    <tr style=\"text-align: right;\">\n",
       "      <th></th>\n",
       "      <th>id</th>\n",
       "      <th>name</th>\n",
       "      <th>poster_path</th>\n",
       "      <th>backdrop_path</th>\n",
       "    </tr>\n",
       "  </thead>\n",
       "  <tbody>\n",
       "    <tr>\n",
       "      <th>0</th>\n",
       "      <td>10194</td>\n",
       "      <td>Toy Story Collection</td>\n",
       "      <td>/7G9915LfUQ2lVfwMEEhDsn3kT4B.jpg</td>\n",
       "      <td>/9FBwqcd9IRruEDUrTdcaafOMKUq.jpg</td>\n",
       "    </tr>\n",
       "    <tr>\n",
       "      <th>1</th>\n",
       "      <td>119050</td>\n",
       "      <td>Grumpy Old Men Collection</td>\n",
       "      <td>/nLvUdqgPgm3F85NMCii9gVFUcet.jpg</td>\n",
       "      <td>/hypTnLot2z8wpFS7qwsQHW1uV8u.jpg</td>\n",
       "    </tr>\n",
       "    <tr>\n",
       "      <th>2</th>\n",
       "      <td>96871</td>\n",
       "      <td>Father of the Bride Collection</td>\n",
       "      <td>/nts4iOmNnq7GNicycMJ9pSAn204.jpg</td>\n",
       "      <td>/7qwE57OVZmMJChBpLEbJEmzUydk.jpg</td>\n",
       "    </tr>\n",
       "    <tr>\n",
       "      <th>3</th>\n",
       "      <td>645</td>\n",
       "      <td>James Bond Collection</td>\n",
       "      <td>/HORpg5CSkmeQlAolx3bKMrKgfi.jpg</td>\n",
       "      <td>/6VcVl48kNKvdXOZfJPdarlUGOsk.jpg</td>\n",
       "    </tr>\n",
       "    <tr>\n",
       "      <th>4</th>\n",
       "      <td>117693</td>\n",
       "      <td>Balto Collection</td>\n",
       "      <td>/w0ZgH6Lgxt2bQYnf1ss74UvYftm.jpg</td>\n",
       "      <td>/9VM5LiJV0bGb1st1KyHA3cVnO2G.jpg</td>\n",
       "    </tr>\n",
       "  </tbody>\n",
       "</table>\n",
       "</div>"
      ],
      "text/plain": [
       "       id                            name                       poster_path  \\\n",
       "0   10194            Toy Story Collection  /7G9915LfUQ2lVfwMEEhDsn3kT4B.jpg   \n",
       "1  119050       Grumpy Old Men Collection  /nLvUdqgPgm3F85NMCii9gVFUcet.jpg   \n",
       "2   96871  Father of the Bride Collection  /nts4iOmNnq7GNicycMJ9pSAn204.jpg   \n",
       "3     645           James Bond Collection   /HORpg5CSkmeQlAolx3bKMrKgfi.jpg   \n",
       "4  117693                Balto Collection  /w0ZgH6Lgxt2bQYnf1ss74UvYftm.jpg   \n",
       "\n",
       "                      backdrop_path  \n",
       "0  /9FBwqcd9IRruEDUrTdcaafOMKUq.jpg  \n",
       "1  /hypTnLot2z8wpFS7qwsQHW1uV8u.jpg  \n",
       "2  /7qwE57OVZmMJChBpLEbJEmzUydk.jpg  \n",
       "3  /6VcVl48kNKvdXOZfJPdarlUGOsk.jpg  \n",
       "4  /9VM5LiJV0bGb1st1KyHA3cVnO2G.jpg  "
      ]
     },
     "execution_count": 14,
     "metadata": {},
     "output_type": "execute_result"
    }
   ],
   "source": [
    "df_btc.head()#Observamos"
   ]
  },
  {
   "cell_type": "code",
   "execution_count": 15,
   "metadata": {},
   "outputs": [],
   "source": [
    "df_btc.columns=['id_franquicia', 'name_franquicia', 'poster_path', 'backdrop_path']"
   ]
  },
  {
   "cell_type": "code",
   "execution_count": 16,
   "metadata": {},
   "outputs": [
    {
     "data": {
      "text/html": [
       "<div>\n",
       "<style scoped>\n",
       "    .dataframe tbody tr th:only-of-type {\n",
       "        vertical-align: middle;\n",
       "    }\n",
       "\n",
       "    .dataframe tbody tr th {\n",
       "        vertical-align: top;\n",
       "    }\n",
       "\n",
       "    .dataframe thead th {\n",
       "        text-align: right;\n",
       "    }\n",
       "</style>\n",
       "<table border=\"1\" class=\"dataframe\">\n",
       "  <thead>\n",
       "    <tr style=\"text-align: right;\">\n",
       "      <th></th>\n",
       "      <th>id_franquicia</th>\n",
       "      <th>name_franquicia</th>\n",
       "      <th>poster_path</th>\n",
       "      <th>backdrop_path</th>\n",
       "    </tr>\n",
       "  </thead>\n",
       "  <tbody>\n",
       "    <tr>\n",
       "      <th>0</th>\n",
       "      <td>10194</td>\n",
       "      <td>Toy Story Collection</td>\n",
       "      <td>/7G9915LfUQ2lVfwMEEhDsn3kT4B.jpg</td>\n",
       "      <td>/9FBwqcd9IRruEDUrTdcaafOMKUq.jpg</td>\n",
       "    </tr>\n",
       "    <tr>\n",
       "      <th>1</th>\n",
       "      <td>119050</td>\n",
       "      <td>Grumpy Old Men Collection</td>\n",
       "      <td>/nLvUdqgPgm3F85NMCii9gVFUcet.jpg</td>\n",
       "      <td>/hypTnLot2z8wpFS7qwsQHW1uV8u.jpg</td>\n",
       "    </tr>\n",
       "    <tr>\n",
       "      <th>2</th>\n",
       "      <td>96871</td>\n",
       "      <td>Father of the Bride Collection</td>\n",
       "      <td>/nts4iOmNnq7GNicycMJ9pSAn204.jpg</td>\n",
       "      <td>/7qwE57OVZmMJChBpLEbJEmzUydk.jpg</td>\n",
       "    </tr>\n",
       "    <tr>\n",
       "      <th>3</th>\n",
       "      <td>645</td>\n",
       "      <td>James Bond Collection</td>\n",
       "      <td>/HORpg5CSkmeQlAolx3bKMrKgfi.jpg</td>\n",
       "      <td>/6VcVl48kNKvdXOZfJPdarlUGOsk.jpg</td>\n",
       "    </tr>\n",
       "    <tr>\n",
       "      <th>4</th>\n",
       "      <td>117693</td>\n",
       "      <td>Balto Collection</td>\n",
       "      <td>/w0ZgH6Lgxt2bQYnf1ss74UvYftm.jpg</td>\n",
       "      <td>/9VM5LiJV0bGb1st1KyHA3cVnO2G.jpg</td>\n",
       "    </tr>\n",
       "  </tbody>\n",
       "</table>\n",
       "</div>"
      ],
      "text/plain": [
       "   id_franquicia                 name_franquicia  \\\n",
       "0          10194            Toy Story Collection   \n",
       "1         119050       Grumpy Old Men Collection   \n",
       "2          96871  Father of the Bride Collection   \n",
       "3            645           James Bond Collection   \n",
       "4         117693                Balto Collection   \n",
       "\n",
       "                        poster_path                     backdrop_path  \n",
       "0  /7G9915LfUQ2lVfwMEEhDsn3kT4B.jpg  /9FBwqcd9IRruEDUrTdcaafOMKUq.jpg  \n",
       "1  /nLvUdqgPgm3F85NMCii9gVFUcet.jpg  /hypTnLot2z8wpFS7qwsQHW1uV8u.jpg  \n",
       "2  /nts4iOmNnq7GNicycMJ9pSAn204.jpg  /7qwE57OVZmMJChBpLEbJEmzUydk.jpg  \n",
       "3   /HORpg5CSkmeQlAolx3bKMrKgfi.jpg  /6VcVl48kNKvdXOZfJPdarlUGOsk.jpg  \n",
       "4  /w0ZgH6Lgxt2bQYnf1ss74UvYftm.jpg  /9VM5LiJV0bGb1st1KyHA3cVnO2G.jpg  "
      ]
     },
     "execution_count": 16,
     "metadata": {},
     "output_type": "execute_result"
    }
   ],
   "source": [
    "df_btc.head()#Observamos"
   ]
  },
  {
   "cell_type": "code",
   "execution_count": 17,
   "metadata": {},
   "outputs": [],
   "source": [
    "lista_lis = df_a_transformar['genres'] #Seguimos con la columna \"genres\"\n",
    "df_genres =  lista_lis\n"
   ]
  },
  {
   "cell_type": "code",
   "execution_count": 18,
   "metadata": {},
   "outputs": [
    {
     "data": {
      "text/plain": [
       "0    [{'id': 16, 'name': 'Animation'}, {'id': 35, '...\n",
       "1    [{'id': 12, 'name': 'Adventure'}, {'id': 14, '...\n",
       "2    [{'id': 10749, 'name': 'Romance'}, {'id': 35, ...\n",
       "3    [{'id': 35, 'name': 'Comedy'}, {'id': 18, 'nam...\n",
       "4                       [{'id': 35, 'name': 'Comedy'}]\n",
       "Name: genres, dtype: object"
      ]
     },
     "execution_count": 18,
     "metadata": {},
     "output_type": "execute_result"
    }
   ],
   "source": [
    "df_genres.head()"
   ]
  },
  {
   "cell_type": "code",
   "execution_count": 19,
   "metadata": {},
   "outputs": [],
   "source": [
    "'''\n",
    "Para ésta columna fué sencillo solo creé una lista auxiliar(lista_aux) en la cual primero guardé el string del registro en el indice[i] y \n",
    "después usé la función eval() para convertirlo en lista.\n",
    "Dado que era habían diccionaros anidados lo que hice fué acceder a cada una en un segundo bucle(for) y añadirlos a una nueva lista para\n",
    "finalmente convertir todo en un dataframe(df_genres)\n",
    "'''\n",
    "dimentions = df_genres.shape \n",
    "df = []\n",
    "for i in range(dimentions[0]-1):\n",
    "    lista_aux = str(df_genres.loc[i]) \n",
    "    lista_aux = eval(lista_aux)\n",
    "\n",
    "    for dicc in lista_aux:\n",
    "        df.append(dicc)\n",
    "\n",
    "df_genres = pd.DataFrame(df)"
   ]
  },
  {
   "cell_type": "code",
   "execution_count": 20,
   "metadata": {},
   "outputs": [],
   "source": [
    "df_genres.columns=['id', 'genre']"
   ]
  },
  {
   "cell_type": "code",
   "execution_count": 21,
   "metadata": {},
   "outputs": [
    {
     "data": {
      "text/html": [
       "<div>\n",
       "<style scoped>\n",
       "    .dataframe tbody tr th:only-of-type {\n",
       "        vertical-align: middle;\n",
       "    }\n",
       "\n",
       "    .dataframe tbody tr th {\n",
       "        vertical-align: top;\n",
       "    }\n",
       "\n",
       "    .dataframe thead th {\n",
       "        text-align: right;\n",
       "    }\n",
       "</style>\n",
       "<table border=\"1\" class=\"dataframe\">\n",
       "  <thead>\n",
       "    <tr style=\"text-align: right;\">\n",
       "      <th></th>\n",
       "      <th>id</th>\n",
       "      <th>genre</th>\n",
       "    </tr>\n",
       "  </thead>\n",
       "  <tbody>\n",
       "    <tr>\n",
       "      <th>0</th>\n",
       "      <td>16</td>\n",
       "      <td>Animation</td>\n",
       "    </tr>\n",
       "    <tr>\n",
       "      <th>1</th>\n",
       "      <td>35</td>\n",
       "      <td>Comedy</td>\n",
       "    </tr>\n",
       "    <tr>\n",
       "      <th>2</th>\n",
       "      <td>10751</td>\n",
       "      <td>Family</td>\n",
       "    </tr>\n",
       "    <tr>\n",
       "      <th>3</th>\n",
       "      <td>12</td>\n",
       "      <td>Adventure</td>\n",
       "    </tr>\n",
       "    <tr>\n",
       "      <th>4</th>\n",
       "      <td>14</td>\n",
       "      <td>Fantasy</td>\n",
       "    </tr>\n",
       "    <tr>\n",
       "      <th>...</th>\n",
       "      <td>...</td>\n",
       "      <td>...</td>\n",
       "    </tr>\n",
       "    <tr>\n",
       "      <th>91101</th>\n",
       "      <td>10751</td>\n",
       "      <td>Family</td>\n",
       "    </tr>\n",
       "    <tr>\n",
       "      <th>91102</th>\n",
       "      <td>18</td>\n",
       "      <td>Drama</td>\n",
       "    </tr>\n",
       "    <tr>\n",
       "      <th>91103</th>\n",
       "      <td>28</td>\n",
       "      <td>Action</td>\n",
       "    </tr>\n",
       "    <tr>\n",
       "      <th>91104</th>\n",
       "      <td>18</td>\n",
       "      <td>Drama</td>\n",
       "    </tr>\n",
       "    <tr>\n",
       "      <th>91105</th>\n",
       "      <td>53</td>\n",
       "      <td>Thriller</td>\n",
       "    </tr>\n",
       "  </tbody>\n",
       "</table>\n",
       "<p>91106 rows × 2 columns</p>\n",
       "</div>"
      ],
      "text/plain": [
       "          id      genre\n",
       "0         16  Animation\n",
       "1         35     Comedy\n",
       "2      10751     Family\n",
       "3         12  Adventure\n",
       "4         14    Fantasy\n",
       "...      ...        ...\n",
       "91101  10751     Family\n",
       "91102     18      Drama\n",
       "91103     28     Action\n",
       "91104     18      Drama\n",
       "91105     53   Thriller\n",
       "\n",
       "[91106 rows x 2 columns]"
      ]
     },
     "execution_count": 21,
     "metadata": {},
     "output_type": "execute_result"
    }
   ],
   "source": [
    "df_genres"
   ]
  },
  {
   "cell_type": "code",
   "execution_count": 22,
   "metadata": {},
   "outputs": [
    {
     "data": {
      "text/html": [
       "<div>\n",
       "<style scoped>\n",
       "    .dataframe tbody tr th:only-of-type {\n",
       "        vertical-align: middle;\n",
       "    }\n",
       "\n",
       "    .dataframe tbody tr th {\n",
       "        vertical-align: top;\n",
       "    }\n",
       "\n",
       "    .dataframe thead th {\n",
       "        text-align: right;\n",
       "    }\n",
       "</style>\n",
       "<table border=\"1\" class=\"dataframe\">\n",
       "  <thead>\n",
       "    <tr style=\"text-align: right;\">\n",
       "      <th></th>\n",
       "      <th>id</th>\n",
       "      <th>production_companies</th>\n",
       "    </tr>\n",
       "  </thead>\n",
       "  <tbody>\n",
       "    <tr>\n",
       "      <th>0</th>\n",
       "      <td>862</td>\n",
       "      <td>[{'name': 'Pixar Animation Studios', 'id': 3}]</td>\n",
       "    </tr>\n",
       "    <tr>\n",
       "      <th>1</th>\n",
       "      <td>8844</td>\n",
       "      <td>[{'name': 'TriStar Pictures', 'id': 559}, {'na...</td>\n",
       "    </tr>\n",
       "    <tr>\n",
       "      <th>2</th>\n",
       "      <td>15602</td>\n",
       "      <td>[{'name': 'Warner Bros.', 'id': 6194}, {'name'...</td>\n",
       "    </tr>\n",
       "    <tr>\n",
       "      <th>3</th>\n",
       "      <td>31357</td>\n",
       "      <td>[{'name': 'Twentieth Century Fox Film Corporat...</td>\n",
       "    </tr>\n",
       "    <tr>\n",
       "      <th>4</th>\n",
       "      <td>11862</td>\n",
       "      <td>[{'name': 'Sandollar Productions', 'id': 5842}...</td>\n",
       "    </tr>\n",
       "  </tbody>\n",
       "</table>\n",
       "</div>"
      ],
      "text/plain": [
       "      id                               production_companies\n",
       "0    862     [{'name': 'Pixar Animation Studios', 'id': 3}]\n",
       "1   8844  [{'name': 'TriStar Pictures', 'id': 559}, {'na...\n",
       "2  15602  [{'name': 'Warner Bros.', 'id': 6194}, {'name'...\n",
       "3  31357  [{'name': 'Twentieth Century Fox Film Corporat...\n",
       "4  11862  [{'name': 'Sandollar Productions', 'id': 5842}..."
      ]
     },
     "execution_count": 22,
     "metadata": {},
     "output_type": "execute_result"
    }
   ],
   "source": [
    "df_a_transformar[['id','production_companies']].head(5)"
   ]
  },
  {
   "cell_type": "code",
   "execution_count": 23,
   "metadata": {},
   "outputs": [
    {
     "data": {
      "text/plain": [
       "0           [{'name': 'Pixar Animation Studios', 'id': 3}]\n",
       "1        [{'name': 'TriStar Pictures', 'id': 559}, {'na...\n",
       "2        [{'name': 'Warner Bros.', 'id': 6194}, {'name'...\n",
       "3        [{'name': 'Twentieth Century Fox Film Corporat...\n",
       "4        [{'name': 'Sandollar Productions', 'id': 5842}...\n",
       "                               ...                        \n",
       "45461                                                   []\n",
       "45462               [{'name': 'Sine Olivia', 'id': 19653}]\n",
       "45463    [{'name': 'American World Pictures', 'id': 6165}]\n",
       "45464                 [{'name': 'Yermoliev', 'id': 88753}]\n",
       "45465                                                   []\n",
       "Name: production_companies, Length: 45466, dtype: object"
      ]
     },
     "execution_count": 23,
     "metadata": {},
     "output_type": "execute_result"
    }
   ],
   "source": [
    "df_production_companies = df_a_transformar['production_companies']#Continuamos con la columna \"production_companies\"\n",
    "df_production_companies"
   ]
  },
  {
   "cell_type": "code",
   "execution_count": 24,
   "metadata": {},
   "outputs": [],
   "source": [
    "df_production_companies = df_production_companies.dropna().reset_index(drop=True) #Borro los nulos y reseteo los indices para evitar errores en la iteración"
   ]
  },
  {
   "cell_type": "code",
   "execution_count": 25,
   "metadata": {},
   "outputs": [
    {
     "data": {
      "text/plain": [
       "0           [{'name': 'Pixar Animation Studios', 'id': 3}]\n",
       "1        [{'name': 'TriStar Pictures', 'id': 559}, {'na...\n",
       "2        [{'name': 'Warner Bros.', 'id': 6194}, {'name'...\n",
       "3        [{'name': 'Twentieth Century Fox Film Corporat...\n",
       "4        [{'name': 'Sandollar Productions', 'id': 5842}...\n",
       "                               ...                        \n",
       "45458                                                   []\n",
       "45459               [{'name': 'Sine Olivia', 'id': 19653}]\n",
       "45460    [{'name': 'American World Pictures', 'id': 6165}]\n",
       "45461                 [{'name': 'Yermoliev', 'id': 88753}]\n",
       "45462                                                   []\n",
       "Name: production_companies, Length: 45463, dtype: object"
      ]
     },
     "execution_count": 25,
     "metadata": {},
     "output_type": "execute_result"
    }
   ],
   "source": [
    "df_production_companies"
   ]
  },
  {
   "cell_type": "code",
   "execution_count": 26,
   "metadata": {},
   "outputs": [],
   "source": [
    "mask = df_production_companies == \"[]\"\n",
    "df_production_companies = df_production_companies[~mask].reset_index(drop = True) #Borro listas vacías que no me aportan nada y vuelvo a resetear lo indices"
   ]
  },
  {
   "cell_type": "code",
   "execution_count": 27,
   "metadata": {},
   "outputs": [
    {
     "data": {
      "text/plain": [
       "0           [{'name': 'Pixar Animation Studios', 'id': 3}]\n",
       "1        [{'name': 'TriStar Pictures', 'id': 559}, {'na...\n",
       "2        [{'name': 'Warner Bros.', 'id': 6194}, {'name'...\n",
       "3        [{'name': 'Twentieth Century Fox Film Corporat...\n",
       "4        [{'name': 'Sandollar Productions', 'id': 5842}...\n",
       "                               ...                        \n",
       "33583      [{'name': 'Concorde-New Horizons', 'id': 4688}]\n",
       "33584    [{'name': 'Westdeutscher Rundfunk (WDR)', 'id'...\n",
       "33585               [{'name': 'Sine Olivia', 'id': 19653}]\n",
       "33586    [{'name': 'American World Pictures', 'id': 6165}]\n",
       "33587                 [{'name': 'Yermoliev', 'id': 88753}]\n",
       "Name: production_companies, Length: 33588, dtype: object"
      ]
     },
     "execution_count": 27,
     "metadata": {},
     "output_type": "execute_result"
    }
   ],
   "source": [
    "df_production_companies"
   ]
  },
  {
   "cell_type": "code",
   "execution_count": 28,
   "metadata": {},
   "outputs": [],
   "source": [
    "dimenciones = df_production_companies.shape \n",
    "lista_de = []\n",
    "#Itero cada registro y los agrego en una lista(lista_de) para trabajarlo mejor\n",
    "for i in range(dimenciones[0]-1): \n",
    "    s = df_production_companies.loc[i]\n",
    "    lista_de.append(eval(s))\n"
   ]
  },
  {
   "cell_type": "code",
   "execution_count": 29,
   "metadata": {},
   "outputs": [
    {
     "data": {
      "text/plain": [
       "[16340, 23302, 27253]"
      ]
     },
     "execution_count": 29,
     "metadata": {},
     "output_type": "execute_result"
    }
   ],
   "source": [
    "i = -1\n",
    "lista_ind = []\n",
    "#Me daba un error de tipo(bool) así que borro todos los registros que sean booleanos(porque no eran muchos) \n",
    "for lista in lista_de: \n",
    "    i+=1\n",
    "    if type(lista) == bool:\n",
    "        lista_ind.append(i)\n",
    "        lista_de.pop(i)\n",
    "lista_ind"
   ]
  },
  {
   "cell_type": "code",
   "execution_count": 30,
   "metadata": {},
   "outputs": [],
   "source": [
    "for_df = []\n",
    "#Ahora si lo transformo en DataFrame \n",
    "for lista in lista_de:\n",
    "    for dicc in lista:\n",
    "        for_df.append(dicc)\n",
    "\n",
    "df_production_companies = pd.DataFrame(for_df)"
   ]
  },
  {
   "cell_type": "code",
   "execution_count": 31,
   "metadata": {},
   "outputs": [],
   "source": [
    "df_production_companies.columns=['companies', 'id_companies']"
   ]
  },
  {
   "cell_type": "code",
   "execution_count": 32,
   "metadata": {},
   "outputs": [
    {
     "data": {
      "text/html": [
       "<div>\n",
       "<style scoped>\n",
       "    .dataframe tbody tr th:only-of-type {\n",
       "        vertical-align: middle;\n",
       "    }\n",
       "\n",
       "    .dataframe tbody tr th {\n",
       "        vertical-align: top;\n",
       "    }\n",
       "\n",
       "    .dataframe thead th {\n",
       "        text-align: right;\n",
       "    }\n",
       "</style>\n",
       "<table border=\"1\" class=\"dataframe\">\n",
       "  <thead>\n",
       "    <tr style=\"text-align: right;\">\n",
       "      <th></th>\n",
       "      <th>companies</th>\n",
       "      <th>id_companies</th>\n",
       "    </tr>\n",
       "  </thead>\n",
       "  <tbody>\n",
       "    <tr>\n",
       "      <th>0</th>\n",
       "      <td>Pixar Animation Studios</td>\n",
       "      <td>3</td>\n",
       "    </tr>\n",
       "    <tr>\n",
       "      <th>1</th>\n",
       "      <td>TriStar Pictures</td>\n",
       "      <td>559</td>\n",
       "    </tr>\n",
       "    <tr>\n",
       "      <th>2</th>\n",
       "      <td>Teitler Film</td>\n",
       "      <td>2550</td>\n",
       "    </tr>\n",
       "    <tr>\n",
       "      <th>3</th>\n",
       "      <td>Interscope Communications</td>\n",
       "      <td>10201</td>\n",
       "    </tr>\n",
       "    <tr>\n",
       "      <th>4</th>\n",
       "      <td>Warner Bros.</td>\n",
       "      <td>6194</td>\n",
       "    </tr>\n",
       "  </tbody>\n",
       "</table>\n",
       "</div>"
      ],
      "text/plain": [
       "                   companies  id_companies\n",
       "0    Pixar Animation Studios             3\n",
       "1           TriStar Pictures           559\n",
       "2               Teitler Film          2550\n",
       "3  Interscope Communications         10201\n",
       "4               Warner Bros.          6194"
      ]
     },
     "execution_count": 32,
     "metadata": {},
     "output_type": "execute_result"
    }
   ],
   "source": [
    "df_production_companies.head()"
   ]
  },
  {
   "cell_type": "code",
   "execution_count": 33,
   "metadata": {},
   "outputs": [
    {
     "data": {
      "text/plain": [
       "0        [{'iso_3166_1': 'US', 'name': 'United States o...\n",
       "1        [{'iso_3166_1': 'US', 'name': 'United States o...\n",
       "2        [{'iso_3166_1': 'US', 'name': 'United States o...\n",
       "3        [{'iso_3166_1': 'US', 'name': 'United States o...\n",
       "4        [{'iso_3166_1': 'US', 'name': 'United States o...\n",
       "                               ...                        \n",
       "45461               [{'iso_3166_1': 'IR', 'name': 'Iran'}]\n",
       "45462        [{'iso_3166_1': 'PH', 'name': 'Philippines'}]\n",
       "45463    [{'iso_3166_1': 'US', 'name': 'United States o...\n",
       "45464             [{'iso_3166_1': 'RU', 'name': 'Russia'}]\n",
       "45465     [{'iso_3166_1': 'GB', 'name': 'United Kingdom'}]\n",
       "Name: production_countries, Length: 45466, dtype: object"
      ]
     },
     "execution_count": 33,
     "metadata": {},
     "output_type": "execute_result"
    }
   ],
   "source": [
    "df_production_countries = df_a_transformar['production_countries']#Continuamos con la siguiente columna que se llama \"production_companies\"\n",
    "df_production_countries"
   ]
  },
  {
   "cell_type": "code",
   "execution_count": 34,
   "metadata": {},
   "outputs": [
    {
     "data": {
      "text/plain": [
       "0        [{'iso_3166_1': 'US', 'name': 'United States o...\n",
       "1        [{'iso_3166_1': 'US', 'name': 'United States o...\n",
       "2        [{'iso_3166_1': 'US', 'name': 'United States o...\n",
       "3        [{'iso_3166_1': 'US', 'name': 'United States o...\n",
       "4        [{'iso_3166_1': 'US', 'name': 'United States o...\n",
       "                               ...                        \n",
       "45458               [{'iso_3166_1': 'IR', 'name': 'Iran'}]\n",
       "45459        [{'iso_3166_1': 'PH', 'name': 'Philippines'}]\n",
       "45460    [{'iso_3166_1': 'US', 'name': 'United States o...\n",
       "45461             [{'iso_3166_1': 'RU', 'name': 'Russia'}]\n",
       "45462     [{'iso_3166_1': 'GB', 'name': 'United Kingdom'}]\n",
       "Name: production_countries, Length: 45463, dtype: object"
      ]
     },
     "execution_count": 34,
     "metadata": {},
     "output_type": "execute_result"
    }
   ],
   "source": [
    "df_production_countries = df_production_countries.dropna().reset_index(drop=True) #Borro nulos y reseteo indices\n",
    "df_production_countries"
   ]
  },
  {
   "cell_type": "code",
   "execution_count": 35,
   "metadata": {},
   "outputs": [],
   "source": [
    "dimenciones = df_production_countries.shape\n",
    "lista_de_=[]\n",
    "#Creo una lista con cada uno de los registros\n",
    "for i in range(dimenciones[0]-1):\n",
    "    s = str(df_production_countries.loc[i])\n",
    "    lista_de_.append(eval(s))#Les recuerdo que la función eval() lo que hace es detectar si un string tiene formato de una expreción de un tipo de dato de python y la transforma en ese tipo\n",
    "    "
   ]
  },
  {
   "cell_type": "code",
   "execution_count": 36,
   "metadata": {},
   "outputs": [],
   "source": [
    "#Otra vez había error de tipo, esta vez es por datos del tipo flotante, como no eran muchos(3) decidí borrarlos \n",
    "for item in lista_de_:\n",
    "    if type(item) == float:\n",
    "        lista_de_.remove(item)"
   ]
  },
  {
   "cell_type": "code",
   "execution_count": 37,
   "metadata": {},
   "outputs": [],
   "source": [
    "for_df = []\n",
    "#Hago la devida transformación a dataframe\n",
    "for lista in lista_de_:\n",
    "    for dicc in lista:\n",
    "        for_df.append(dicc)\n",
    "\n",
    "df_production_countries = pd.DataFrame(for_df)"
   ]
  },
  {
   "cell_type": "code",
   "execution_count": 38,
   "metadata": {},
   "outputs": [],
   "source": [
    "df_production_countries.columns=['countries', 'full_country']"
   ]
  },
  {
   "cell_type": "code",
   "execution_count": 39,
   "metadata": {},
   "outputs": [
    {
     "data": {
      "text/html": [
       "<div>\n",
       "<style scoped>\n",
       "    .dataframe tbody tr th:only-of-type {\n",
       "        vertical-align: middle;\n",
       "    }\n",
       "\n",
       "    .dataframe tbody tr th {\n",
       "        vertical-align: top;\n",
       "    }\n",
       "\n",
       "    .dataframe thead th {\n",
       "        text-align: right;\n",
       "    }\n",
       "</style>\n",
       "<table border=\"1\" class=\"dataframe\">\n",
       "  <thead>\n",
       "    <tr style=\"text-align: right;\">\n",
       "      <th></th>\n",
       "      <th>countries</th>\n",
       "      <th>full_country</th>\n",
       "    </tr>\n",
       "  </thead>\n",
       "  <tbody>\n",
       "    <tr>\n",
       "      <th>0</th>\n",
       "      <td>US</td>\n",
       "      <td>United States of America</td>\n",
       "    </tr>\n",
       "    <tr>\n",
       "      <th>1</th>\n",
       "      <td>US</td>\n",
       "      <td>United States of America</td>\n",
       "    </tr>\n",
       "    <tr>\n",
       "      <th>2</th>\n",
       "      <td>US</td>\n",
       "      <td>United States of America</td>\n",
       "    </tr>\n",
       "    <tr>\n",
       "      <th>3</th>\n",
       "      <td>US</td>\n",
       "      <td>United States of America</td>\n",
       "    </tr>\n",
       "    <tr>\n",
       "      <th>4</th>\n",
       "      <td>US</td>\n",
       "      <td>United States of America</td>\n",
       "    </tr>\n",
       "    <tr>\n",
       "      <th>...</th>\n",
       "      <td>...</td>\n",
       "      <td>...</td>\n",
       "    </tr>\n",
       "    <tr>\n",
       "      <th>49417</th>\n",
       "      <td>US</td>\n",
       "      <td>United States of America</td>\n",
       "    </tr>\n",
       "    <tr>\n",
       "      <th>49418</th>\n",
       "      <td>IR</td>\n",
       "      <td>Iran</td>\n",
       "    </tr>\n",
       "    <tr>\n",
       "      <th>49419</th>\n",
       "      <td>PH</td>\n",
       "      <td>Philippines</td>\n",
       "    </tr>\n",
       "    <tr>\n",
       "      <th>49420</th>\n",
       "      <td>US</td>\n",
       "      <td>United States of America</td>\n",
       "    </tr>\n",
       "    <tr>\n",
       "      <th>49421</th>\n",
       "      <td>RU</td>\n",
       "      <td>Russia</td>\n",
       "    </tr>\n",
       "  </tbody>\n",
       "</table>\n",
       "<p>49422 rows × 2 columns</p>\n",
       "</div>"
      ],
      "text/plain": [
       "      countries              full_country\n",
       "0            US  United States of America\n",
       "1            US  United States of America\n",
       "2            US  United States of America\n",
       "3            US  United States of America\n",
       "4            US  United States of America\n",
       "...         ...                       ...\n",
       "49417        US  United States of America\n",
       "49418        IR                      Iran\n",
       "49419        PH               Philippines\n",
       "49420        US  United States of America\n",
       "49421        RU                    Russia\n",
       "\n",
       "[49422 rows x 2 columns]"
      ]
     },
     "execution_count": 39,
     "metadata": {},
     "output_type": "execute_result"
    }
   ],
   "source": [
    "df_production_countries"
   ]
  },
  {
   "cell_type": "code",
   "execution_count": 40,
   "metadata": {},
   "outputs": [
    {
     "data": {
      "text/plain": [
       "0                 [{'iso_639_1': 'en', 'name': 'English'}]\n",
       "1        [{'iso_639_1': 'en', 'name': 'English'}, {'iso...\n",
       "2                 [{'iso_639_1': 'en', 'name': 'English'}]\n",
       "3                 [{'iso_639_1': 'en', 'name': 'English'}]\n",
       "4                 [{'iso_639_1': 'en', 'name': 'English'}]\n",
       "                               ...                        \n",
       "45461               [{'iso_639_1': 'fa', 'name': 'فارسی'}]\n",
       "45462                    [{'iso_639_1': 'tl', 'name': ''}]\n",
       "45463             [{'iso_639_1': 'en', 'name': 'English'}]\n",
       "45464                                                   []\n",
       "45465             [{'iso_639_1': 'en', 'name': 'English'}]\n",
       "Name: spoken_languages, Length: 45466, dtype: object"
      ]
     },
     "execution_count": 40,
     "metadata": {},
     "output_type": "execute_result"
    }
   ],
   "source": [
    "df_s_l = df_a_transformar['spoken_languages']#la ultima columna con listas y diccionarios anidados \"spoken_languages\"\n",
    "df_s_l"
   ]
  },
  {
   "cell_type": "code",
   "execution_count": 41,
   "metadata": {},
   "outputs": [
    {
     "data": {
      "text/plain": [
       "0                 [{'iso_639_1': 'en', 'name': 'English'}]\n",
       "1        [{'iso_639_1': 'en', 'name': 'English'}, {'iso...\n",
       "2                 [{'iso_639_1': 'en', 'name': 'English'}]\n",
       "3                 [{'iso_639_1': 'en', 'name': 'English'}]\n",
       "4                 [{'iso_639_1': 'en', 'name': 'English'}]\n",
       "                               ...                        \n",
       "45455               [{'iso_639_1': 'fa', 'name': 'فارسی'}]\n",
       "45456                    [{'iso_639_1': 'tl', 'name': ''}]\n",
       "45457             [{'iso_639_1': 'en', 'name': 'English'}]\n",
       "45458                                                   []\n",
       "45459             [{'iso_639_1': 'en', 'name': 'English'}]\n",
       "Name: spoken_languages, Length: 45460, dtype: object"
      ]
     },
     "execution_count": 41,
     "metadata": {},
     "output_type": "execute_result"
    }
   ],
   "source": [
    "df_s_l = df_s_l.dropna().reset_index(drop=True) #Borro nulos y reseteo inidices\n",
    "df_s_l"
   ]
  },
  {
   "cell_type": "code",
   "execution_count": 42,
   "metadata": {},
   "outputs": [],
   "source": [
    "dimenciones = df_s_l.shape\n",
    "lista_de_=[]\n",
    "\n",
    "#Creo una lista con los valores de cada registro\n",
    "for i in range(dimenciones[0]-1):\n",
    "    s = str(df_s_l.loc[i])\n",
    "    lista_de_.append(eval(s))\n",
    "    \n"
   ]
  },
  {
   "cell_type": "code",
   "execution_count": 43,
   "metadata": {},
   "outputs": [],
   "source": [
    "for_df = []\n",
    "#Hago la devida transformación a dataframe\n",
    "for lista in lista_de_:\n",
    "    for dicc in lista:\n",
    "        for_df.append(dicc)\n",
    "\n",
    "df_s_l = pd.DataFrame(for_df)"
   ]
  },
  {
   "cell_type": "code",
   "execution_count": 44,
   "metadata": {},
   "outputs": [],
   "source": [
    "df_s_l.columns=['spooken_language','full_language']"
   ]
  },
  {
   "cell_type": "code",
   "execution_count": 45,
   "metadata": {},
   "outputs": [
    {
     "data": {
      "text/html": [
       "<div>\n",
       "<style scoped>\n",
       "    .dataframe tbody tr th:only-of-type {\n",
       "        vertical-align: middle;\n",
       "    }\n",
       "\n",
       "    .dataframe tbody tr th {\n",
       "        vertical-align: top;\n",
       "    }\n",
       "\n",
       "    .dataframe thead th {\n",
       "        text-align: right;\n",
       "    }\n",
       "</style>\n",
       "<table border=\"1\" class=\"dataframe\">\n",
       "  <thead>\n",
       "    <tr style=\"text-align: right;\">\n",
       "      <th></th>\n",
       "      <th>spooken_language</th>\n",
       "      <th>full_language</th>\n",
       "    </tr>\n",
       "  </thead>\n",
       "  <tbody>\n",
       "    <tr>\n",
       "      <th>0</th>\n",
       "      <td>en</td>\n",
       "      <td>English</td>\n",
       "    </tr>\n",
       "    <tr>\n",
       "      <th>1</th>\n",
       "      <td>en</td>\n",
       "      <td>English</td>\n",
       "    </tr>\n",
       "    <tr>\n",
       "      <th>2</th>\n",
       "      <td>fr</td>\n",
       "      <td>Français</td>\n",
       "    </tr>\n",
       "    <tr>\n",
       "      <th>3</th>\n",
       "      <td>en</td>\n",
       "      <td>English</td>\n",
       "    </tr>\n",
       "    <tr>\n",
       "      <th>4</th>\n",
       "      <td>en</td>\n",
       "      <td>English</td>\n",
       "    </tr>\n",
       "    <tr>\n",
       "      <th>...</th>\n",
       "      <td>...</td>\n",
       "      <td>...</td>\n",
       "    </tr>\n",
       "    <tr>\n",
       "      <th>53294</th>\n",
       "      <td>en</td>\n",
       "      <td>English</td>\n",
       "    </tr>\n",
       "    <tr>\n",
       "      <th>53295</th>\n",
       "      <td>en</td>\n",
       "      <td>English</td>\n",
       "    </tr>\n",
       "    <tr>\n",
       "      <th>53296</th>\n",
       "      <td>fa</td>\n",
       "      <td>فارسی</td>\n",
       "    </tr>\n",
       "    <tr>\n",
       "      <th>53297</th>\n",
       "      <td>tl</td>\n",
       "      <td></td>\n",
       "    </tr>\n",
       "    <tr>\n",
       "      <th>53298</th>\n",
       "      <td>en</td>\n",
       "      <td>English</td>\n",
       "    </tr>\n",
       "  </tbody>\n",
       "</table>\n",
       "<p>53299 rows × 2 columns</p>\n",
       "</div>"
      ],
      "text/plain": [
       "      spooken_language full_language\n",
       "0                   en       English\n",
       "1                   en       English\n",
       "2                   fr      Français\n",
       "3                   en       English\n",
       "4                   en       English\n",
       "...                ...           ...\n",
       "53294               en       English\n",
       "53295               en       English\n",
       "53296               fa         فارسی\n",
       "53297               tl              \n",
       "53298               en       English\n",
       "\n",
       "[53299 rows x 2 columns]"
      ]
     },
     "execution_count": 45,
     "metadata": {},
     "output_type": "execute_result"
    }
   ],
   "source": [
    "df_s_l"
   ]
  },
  {
   "cell_type": "code",
   "execution_count": 46,
   "metadata": {},
   "outputs": [
    {
     "data": {
      "text/html": [
       "<div>\n",
       "<style scoped>\n",
       "    .dataframe tbody tr th:only-of-type {\n",
       "        vertical-align: middle;\n",
       "    }\n",
       "\n",
       "    .dataframe tbody tr th {\n",
       "        vertical-align: top;\n",
       "    }\n",
       "\n",
       "    .dataframe thead th {\n",
       "        text-align: right;\n",
       "    }\n",
       "</style>\n",
       "<table border=\"1\" class=\"dataframe\">\n",
       "  <thead>\n",
       "    <tr style=\"text-align: right;\">\n",
       "      <th></th>\n",
       "      <th>adult</th>\n",
       "      <th>belongs_to_collection</th>\n",
       "      <th>budget</th>\n",
       "      <th>genres</th>\n",
       "      <th>homepage</th>\n",
       "      <th>id</th>\n",
       "      <th>imdb_id</th>\n",
       "      <th>original_language</th>\n",
       "      <th>original_title</th>\n",
       "      <th>overview</th>\n",
       "      <th>...</th>\n",
       "      <th>release_date</th>\n",
       "      <th>revenue</th>\n",
       "      <th>runtime</th>\n",
       "      <th>spoken_languages</th>\n",
       "      <th>status</th>\n",
       "      <th>tagline</th>\n",
       "      <th>title</th>\n",
       "      <th>video</th>\n",
       "      <th>vote_average</th>\n",
       "      <th>vote_count</th>\n",
       "    </tr>\n",
       "  </thead>\n",
       "  <tbody>\n",
       "    <tr>\n",
       "      <th>0</th>\n",
       "      <td>False</td>\n",
       "      <td>{'id': 10194, 'name': 'Toy Story Collection', ...</td>\n",
       "      <td>30000000</td>\n",
       "      <td>[{'id': 16, 'name': 'Animation'}, {'id': 35, '...</td>\n",
       "      <td>http://toystory.disney.com/toy-story</td>\n",
       "      <td>862</td>\n",
       "      <td>tt0114709</td>\n",
       "      <td>en</td>\n",
       "      <td>Toy Story</td>\n",
       "      <td>Led by Woody, Andy's toys live happily in his ...</td>\n",
       "      <td>...</td>\n",
       "      <td>1995-10-30</td>\n",
       "      <td>373554033.0</td>\n",
       "      <td>81.0</td>\n",
       "      <td>[{'iso_639_1': 'en', 'name': 'English'}]</td>\n",
       "      <td>Released</td>\n",
       "      <td>NaN</td>\n",
       "      <td>Toy Story</td>\n",
       "      <td>False</td>\n",
       "      <td>7.7</td>\n",
       "      <td>5415.0</td>\n",
       "    </tr>\n",
       "    <tr>\n",
       "      <th>1</th>\n",
       "      <td>False</td>\n",
       "      <td>NaN</td>\n",
       "      <td>65000000</td>\n",
       "      <td>[{'id': 12, 'name': 'Adventure'}, {'id': 14, '...</td>\n",
       "      <td>NaN</td>\n",
       "      <td>8844</td>\n",
       "      <td>tt0113497</td>\n",
       "      <td>en</td>\n",
       "      <td>Jumanji</td>\n",
       "      <td>When siblings Judy and Peter discover an encha...</td>\n",
       "      <td>...</td>\n",
       "      <td>1995-12-15</td>\n",
       "      <td>262797249.0</td>\n",
       "      <td>104.0</td>\n",
       "      <td>[{'iso_639_1': 'en', 'name': 'English'}, {'iso...</td>\n",
       "      <td>Released</td>\n",
       "      <td>Roll the dice and unleash the excitement!</td>\n",
       "      <td>Jumanji</td>\n",
       "      <td>False</td>\n",
       "      <td>6.9</td>\n",
       "      <td>2413.0</td>\n",
       "    </tr>\n",
       "  </tbody>\n",
       "</table>\n",
       "<p>2 rows × 24 columns</p>\n",
       "</div>"
      ],
      "text/plain": [
       "   adult                              belongs_to_collection    budget  \\\n",
       "0  False  {'id': 10194, 'name': 'Toy Story Collection', ...  30000000   \n",
       "1  False                                                NaN  65000000   \n",
       "\n",
       "                                              genres  \\\n",
       "0  [{'id': 16, 'name': 'Animation'}, {'id': 35, '...   \n",
       "1  [{'id': 12, 'name': 'Adventure'}, {'id': 14, '...   \n",
       "\n",
       "                               homepage    id    imdb_id original_language  \\\n",
       "0  http://toystory.disney.com/toy-story   862  tt0114709                en   \n",
       "1                                   NaN  8844  tt0113497                en   \n",
       "\n",
       "  original_title                                           overview  ...  \\\n",
       "0      Toy Story  Led by Woody, Andy's toys live happily in his ...  ...   \n",
       "1        Jumanji  When siblings Judy and Peter discover an encha...  ...   \n",
       "\n",
       "  release_date      revenue runtime  \\\n",
       "0   1995-10-30  373554033.0    81.0   \n",
       "1   1995-12-15  262797249.0   104.0   \n",
       "\n",
       "                                    spoken_languages    status  \\\n",
       "0           [{'iso_639_1': 'en', 'name': 'English'}]  Released   \n",
       "1  [{'iso_639_1': 'en', 'name': 'English'}, {'iso...  Released   \n",
       "\n",
       "                                     tagline      title  video vote_average  \\\n",
       "0                                        NaN  Toy Story  False          7.7   \n",
       "1  Roll the dice and unleash the excitement!    Jumanji  False          6.9   \n",
       "\n",
       "  vote_count  \n",
       "0     5415.0  \n",
       "1     2413.0  \n",
       "\n",
       "[2 rows x 24 columns]"
      ]
     },
     "execution_count": 46,
     "metadata": {},
     "output_type": "execute_result"
    }
   ],
   "source": [
    "df_a_transformar.head(2)"
   ]
  },
  {
   "cell_type": "code",
   "execution_count": null,
   "metadata": {},
   "outputs": [],
   "source": [
    "dimenciones = df_a_transformar.shape\n",
    "mask=df_a_transformar.isnull()\n",
    "lista_val=[]\n",
    "for i in range(dimenciones[0]-1):\n",
    "    if mask['belongs_to_collection'].loc[i] == False:\n",
    "        lista_val.append(i)\n",
    "\n",
    "lista_val"
   ]
  },
  {
   "cell_type": "code",
   "execution_count": 48,
   "metadata": {},
   "outputs": [],
   "source": [
    "df_a_transformar=df_a_transformar.reset_index()"
   ]
  },
  {
   "cell_type": "code",
   "execution_count": 50,
   "metadata": {},
   "outputs": [
    {
     "data": {
      "text/plain": [
       "35755"
      ]
     },
     "execution_count": 50,
     "metadata": {},
     "output_type": "execute_result"
    }
   ],
   "source": [
    "#2371, 3313, 3812\n",
    "lista_val.pop(2371)\n",
    "lista_val.pop(3313)\n",
    "lista_val.pop(3812)"
   ]
  },
  {
   "cell_type": "code",
   "execution_count": 51,
   "metadata": {},
   "outputs": [],
   "source": [
    "df_btc['index'] = lista_val"
   ]
  },
  {
   "cell_type": "code",
   "execution_count": 52,
   "metadata": {},
   "outputs": [
    {
     "data": {
      "text/html": [
       "<div>\n",
       "<style scoped>\n",
       "    .dataframe tbody tr th:only-of-type {\n",
       "        vertical-align: middle;\n",
       "    }\n",
       "\n",
       "    .dataframe tbody tr th {\n",
       "        vertical-align: top;\n",
       "    }\n",
       "\n",
       "    .dataframe thead th {\n",
       "        text-align: right;\n",
       "    }\n",
       "</style>\n",
       "<table border=\"1\" class=\"dataframe\">\n",
       "  <thead>\n",
       "    <tr style=\"text-align: right;\">\n",
       "      <th></th>\n",
       "      <th>id_franquicia</th>\n",
       "      <th>name_franquicia</th>\n",
       "      <th>poster_path</th>\n",
       "      <th>backdrop_path</th>\n",
       "      <th>index</th>\n",
       "    </tr>\n",
       "  </thead>\n",
       "  <tbody>\n",
       "    <tr>\n",
       "      <th>0</th>\n",
       "      <td>10194</td>\n",
       "      <td>Toy Story Collection</td>\n",
       "      <td>/7G9915LfUQ2lVfwMEEhDsn3kT4B.jpg</td>\n",
       "      <td>/9FBwqcd9IRruEDUrTdcaafOMKUq.jpg</td>\n",
       "      <td>0</td>\n",
       "    </tr>\n",
       "    <tr>\n",
       "      <th>1</th>\n",
       "      <td>119050</td>\n",
       "      <td>Grumpy Old Men Collection</td>\n",
       "      <td>/nLvUdqgPgm3F85NMCii9gVFUcet.jpg</td>\n",
       "      <td>/hypTnLot2z8wpFS7qwsQHW1uV8u.jpg</td>\n",
       "      <td>2</td>\n",
       "    </tr>\n",
       "    <tr>\n",
       "      <th>2</th>\n",
       "      <td>96871</td>\n",
       "      <td>Father of the Bride Collection</td>\n",
       "      <td>/nts4iOmNnq7GNicycMJ9pSAn204.jpg</td>\n",
       "      <td>/7qwE57OVZmMJChBpLEbJEmzUydk.jpg</td>\n",
       "      <td>4</td>\n",
       "    </tr>\n",
       "    <tr>\n",
       "      <th>3</th>\n",
       "      <td>645</td>\n",
       "      <td>James Bond Collection</td>\n",
       "      <td>/HORpg5CSkmeQlAolx3bKMrKgfi.jpg</td>\n",
       "      <td>/6VcVl48kNKvdXOZfJPdarlUGOsk.jpg</td>\n",
       "      <td>9</td>\n",
       "    </tr>\n",
       "    <tr>\n",
       "      <th>4</th>\n",
       "      <td>117693</td>\n",
       "      <td>Balto Collection</td>\n",
       "      <td>/w0ZgH6Lgxt2bQYnf1ss74UvYftm.jpg</td>\n",
       "      <td>/9VM5LiJV0bGb1st1KyHA3cVnO2G.jpg</td>\n",
       "      <td>12</td>\n",
       "    </tr>\n",
       "    <tr>\n",
       "      <th>...</th>\n",
       "      <td>...</td>\n",
       "      <td>...</td>\n",
       "      <td>...</td>\n",
       "      <td>...</td>\n",
       "      <td>...</td>\n",
       "    </tr>\n",
       "    <tr>\n",
       "      <th>4483</th>\n",
       "      <td>37261</td>\n",
       "      <td>The Carry On Collection</td>\n",
       "      <td>/2P0HNrYgKDvirV8RCdT1rBSJdbJ.jpg</td>\n",
       "      <td>/38tF1LJN7ULeZAuAfP7beaPMfcl.jpg</td>\n",
       "      <td>45355</td>\n",
       "    </tr>\n",
       "    <tr>\n",
       "      <th>4484</th>\n",
       "      <td>37261</td>\n",
       "      <td>The Carry On Collection</td>\n",
       "      <td>/2P0HNrYgKDvirV8RCdT1rBSJdbJ.jpg</td>\n",
       "      <td>/38tF1LJN7ULeZAuAfP7beaPMfcl.jpg</td>\n",
       "      <td>45358</td>\n",
       "    </tr>\n",
       "    <tr>\n",
       "      <th>4485</th>\n",
       "      <td>37261</td>\n",
       "      <td>The Carry On Collection</td>\n",
       "      <td>/2P0HNrYgKDvirV8RCdT1rBSJdbJ.jpg</td>\n",
       "      <td>/38tF1LJN7ULeZAuAfP7beaPMfcl.jpg</td>\n",
       "      <td>45369</td>\n",
       "    </tr>\n",
       "    <tr>\n",
       "      <th>4486</th>\n",
       "      <td>477208</td>\n",
       "      <td>DC Super Hero Girls Collection</td>\n",
       "      <td>None</td>\n",
       "      <td>None</td>\n",
       "      <td>45371</td>\n",
       "    </tr>\n",
       "    <tr>\n",
       "      <th>4487</th>\n",
       "      <td>200641</td>\n",
       "      <td>Red Lotus Collection</td>\n",
       "      <td>/yf9Eod9ANXyHTzDpAxz9ezgvlL4.jpg</td>\n",
       "      <td>/3fhHbLeO3DqdHvgHg5szs399eBb.jpg</td>\n",
       "      <td>45382</td>\n",
       "    </tr>\n",
       "  </tbody>\n",
       "</table>\n",
       "<p>4488 rows × 5 columns</p>\n",
       "</div>"
      ],
      "text/plain": [
       "      id_franquicia                 name_franquicia  \\\n",
       "0             10194            Toy Story Collection   \n",
       "1            119050       Grumpy Old Men Collection   \n",
       "2             96871  Father of the Bride Collection   \n",
       "3               645           James Bond Collection   \n",
       "4            117693                Balto Collection   \n",
       "...             ...                             ...   \n",
       "4483          37261         The Carry On Collection   \n",
       "4484          37261         The Carry On Collection   \n",
       "4485          37261         The Carry On Collection   \n",
       "4486         477208  DC Super Hero Girls Collection   \n",
       "4487         200641            Red Lotus Collection   \n",
       "\n",
       "                           poster_path                     backdrop_path  \\\n",
       "0     /7G9915LfUQ2lVfwMEEhDsn3kT4B.jpg  /9FBwqcd9IRruEDUrTdcaafOMKUq.jpg   \n",
       "1     /nLvUdqgPgm3F85NMCii9gVFUcet.jpg  /hypTnLot2z8wpFS7qwsQHW1uV8u.jpg   \n",
       "2     /nts4iOmNnq7GNicycMJ9pSAn204.jpg  /7qwE57OVZmMJChBpLEbJEmzUydk.jpg   \n",
       "3      /HORpg5CSkmeQlAolx3bKMrKgfi.jpg  /6VcVl48kNKvdXOZfJPdarlUGOsk.jpg   \n",
       "4     /w0ZgH6Lgxt2bQYnf1ss74UvYftm.jpg  /9VM5LiJV0bGb1st1KyHA3cVnO2G.jpg   \n",
       "...                                ...                               ...   \n",
       "4483  /2P0HNrYgKDvirV8RCdT1rBSJdbJ.jpg  /38tF1LJN7ULeZAuAfP7beaPMfcl.jpg   \n",
       "4484  /2P0HNrYgKDvirV8RCdT1rBSJdbJ.jpg  /38tF1LJN7ULeZAuAfP7beaPMfcl.jpg   \n",
       "4485  /2P0HNrYgKDvirV8RCdT1rBSJdbJ.jpg  /38tF1LJN7ULeZAuAfP7beaPMfcl.jpg   \n",
       "4486                              None                              None   \n",
       "4487  /yf9Eod9ANXyHTzDpAxz9ezgvlL4.jpg  /3fhHbLeO3DqdHvgHg5szs399eBb.jpg   \n",
       "\n",
       "      index  \n",
       "0         0  \n",
       "1         2  \n",
       "2         4  \n",
       "3         9  \n",
       "4        12  \n",
       "...     ...  \n",
       "4483  45355  \n",
       "4484  45358  \n",
       "4485  45369  \n",
       "4486  45371  \n",
       "4487  45382  \n",
       "\n",
       "[4488 rows x 5 columns]"
      ]
     },
     "execution_count": 52,
     "metadata": {},
     "output_type": "execute_result"
    }
   ],
   "source": [
    "df_btc"
   ]
  },
  {
   "cell_type": "code",
   "execution_count": 53,
   "metadata": {},
   "outputs": [],
   "source": [
    "df_a_transformar = df_a_transformar.reset_index()"
   ]
  },
  {
   "cell_type": "code",
   "execution_count": 54,
   "metadata": {},
   "outputs": [],
   "source": [
    "df_prueba=pd.merge(df_a_transformar,df_btc, on='index', how='left')"
   ]
  },
  {
   "cell_type": "code",
   "execution_count": 55,
   "metadata": {},
   "outputs": [
    {
     "data": {
      "text/html": [
       "<div>\n",
       "<style scoped>\n",
       "    .dataframe tbody tr th:only-of-type {\n",
       "        vertical-align: middle;\n",
       "    }\n",
       "\n",
       "    .dataframe tbody tr th {\n",
       "        vertical-align: top;\n",
       "    }\n",
       "\n",
       "    .dataframe thead th {\n",
       "        text-align: right;\n",
       "    }\n",
       "</style>\n",
       "<table border=\"1\" class=\"dataframe\">\n",
       "  <thead>\n",
       "    <tr style=\"text-align: right;\">\n",
       "      <th></th>\n",
       "      <th>name_franquicia</th>\n",
       "      <th>belongs_to_collection</th>\n",
       "    </tr>\n",
       "  </thead>\n",
       "  <tbody>\n",
       "    <tr>\n",
       "      <th>0</th>\n",
       "      <td>Toy Story Collection</td>\n",
       "      <td>{'id': 10194, 'name': 'Toy Story Collection', ...</td>\n",
       "    </tr>\n",
       "    <tr>\n",
       "      <th>1</th>\n",
       "      <td>NaN</td>\n",
       "      <td>NaN</td>\n",
       "    </tr>\n",
       "    <tr>\n",
       "      <th>2</th>\n",
       "      <td>Grumpy Old Men Collection</td>\n",
       "      <td>{'id': 119050, 'name': 'Grumpy Old Men Collect...</td>\n",
       "    </tr>\n",
       "    <tr>\n",
       "      <th>3</th>\n",
       "      <td>NaN</td>\n",
       "      <td>NaN</td>\n",
       "    </tr>\n",
       "    <tr>\n",
       "      <th>4</th>\n",
       "      <td>Father of the Bride Collection</td>\n",
       "      <td>{'id': 96871, 'name': 'Father of the Bride Col...</td>\n",
       "    </tr>\n",
       "    <tr>\n",
       "      <th>...</th>\n",
       "      <td>...</td>\n",
       "      <td>...</td>\n",
       "    </tr>\n",
       "    <tr>\n",
       "      <th>45461</th>\n",
       "      <td>NaN</td>\n",
       "      <td>NaN</td>\n",
       "    </tr>\n",
       "    <tr>\n",
       "      <th>45462</th>\n",
       "      <td>NaN</td>\n",
       "      <td>NaN</td>\n",
       "    </tr>\n",
       "    <tr>\n",
       "      <th>45463</th>\n",
       "      <td>NaN</td>\n",
       "      <td>NaN</td>\n",
       "    </tr>\n",
       "    <tr>\n",
       "      <th>45464</th>\n",
       "      <td>NaN</td>\n",
       "      <td>NaN</td>\n",
       "    </tr>\n",
       "    <tr>\n",
       "      <th>45465</th>\n",
       "      <td>NaN</td>\n",
       "      <td>NaN</td>\n",
       "    </tr>\n",
       "  </tbody>\n",
       "</table>\n",
       "<p>45466 rows × 2 columns</p>\n",
       "</div>"
      ],
      "text/plain": [
       "                      name_franquicia  \\\n",
       "0                Toy Story Collection   \n",
       "1                                 NaN   \n",
       "2           Grumpy Old Men Collection   \n",
       "3                                 NaN   \n",
       "4      Father of the Bride Collection   \n",
       "...                               ...   \n",
       "45461                             NaN   \n",
       "45462                             NaN   \n",
       "45463                             NaN   \n",
       "45464                             NaN   \n",
       "45465                             NaN   \n",
       "\n",
       "                                   belongs_to_collection  \n",
       "0      {'id': 10194, 'name': 'Toy Story Collection', ...  \n",
       "1                                                    NaN  \n",
       "2      {'id': 119050, 'name': 'Grumpy Old Men Collect...  \n",
       "3                                                    NaN  \n",
       "4      {'id': 96871, 'name': 'Father of the Bride Col...  \n",
       "...                                                  ...  \n",
       "45461                                                NaN  \n",
       "45462                                                NaN  \n",
       "45463                                                NaN  \n",
       "45464                                                NaN  \n",
       "45465                                                NaN  \n",
       "\n",
       "[45466 rows x 2 columns]"
      ]
     },
     "execution_count": 55,
     "metadata": {},
     "output_type": "execute_result"
    }
   ],
   "source": [
    "df_prueba[['name_franquicia', 'belongs_to_collection']]"
   ]
  },
  {
   "cell_type": "code",
   "execution_count": 56,
   "metadata": {},
   "outputs": [],
   "source": [
    "df_a_transformar2 = pd.read_csv('./datasets/credits.csv')"
   ]
  },
  {
   "cell_type": "code",
   "execution_count": 92,
   "metadata": {},
   "outputs": [
    {
     "data": {
      "text/html": [
       "<div>\n",
       "<style scoped>\n",
       "    .dataframe tbody tr th:only-of-type {\n",
       "        vertical-align: middle;\n",
       "    }\n",
       "\n",
       "    .dataframe tbody tr th {\n",
       "        vertical-align: top;\n",
       "    }\n",
       "\n",
       "    .dataframe thead th {\n",
       "        text-align: right;\n",
       "    }\n",
       "</style>\n",
       "<table border=\"1\" class=\"dataframe\">\n",
       "  <thead>\n",
       "    <tr style=\"text-align: right;\">\n",
       "      <th></th>\n",
       "      <th>cast</th>\n",
       "      <th>crew</th>\n",
       "      <th>id</th>\n",
       "    </tr>\n",
       "  </thead>\n",
       "  <tbody>\n",
       "    <tr>\n",
       "      <th>0</th>\n",
       "      <td>[{'cast_id': 14, 'character': 'Woody (voice)',...</td>\n",
       "      <td>[{'credit_id': '52fe4284c3a36847f8024f49', 'de...</td>\n",
       "      <td>862</td>\n",
       "    </tr>\n",
       "    <tr>\n",
       "      <th>1</th>\n",
       "      <td>[{'cast_id': 1, 'character': 'Alan Parrish', '...</td>\n",
       "      <td>[{'credit_id': '52fe44bfc3a36847f80a7cd1', 'de...</td>\n",
       "      <td>8844</td>\n",
       "    </tr>\n",
       "    <tr>\n",
       "      <th>2</th>\n",
       "      <td>[{'cast_id': 2, 'character': 'Max Goldman', 'c...</td>\n",
       "      <td>[{'credit_id': '52fe466a9251416c75077a89', 'de...</td>\n",
       "      <td>15602</td>\n",
       "    </tr>\n",
       "    <tr>\n",
       "      <th>3</th>\n",
       "      <td>[{'cast_id': 1, 'character': \"Savannah 'Vannah...</td>\n",
       "      <td>[{'credit_id': '52fe44779251416c91011acb', 'de...</td>\n",
       "      <td>31357</td>\n",
       "    </tr>\n",
       "    <tr>\n",
       "      <th>4</th>\n",
       "      <td>[{'cast_id': 1, 'character': 'George Banks', '...</td>\n",
       "      <td>[{'credit_id': '52fe44959251416c75039ed7', 'de...</td>\n",
       "      <td>11862</td>\n",
       "    </tr>\n",
       "    <tr>\n",
       "      <th>...</th>\n",
       "      <td>...</td>\n",
       "      <td>...</td>\n",
       "      <td>...</td>\n",
       "    </tr>\n",
       "    <tr>\n",
       "      <th>45471</th>\n",
       "      <td>[{'cast_id': 0, 'character': '', 'credit_id': ...</td>\n",
       "      <td>[{'credit_id': '5894a97d925141426c00818c', 'de...</td>\n",
       "      <td>439050</td>\n",
       "    </tr>\n",
       "    <tr>\n",
       "      <th>45472</th>\n",
       "      <td>[{'cast_id': 1002, 'character': 'Sister Angela...</td>\n",
       "      <td>[{'credit_id': '52fe4af1c3a36847f81e9b15', 'de...</td>\n",
       "      <td>111109</td>\n",
       "    </tr>\n",
       "    <tr>\n",
       "      <th>45473</th>\n",
       "      <td>[{'cast_id': 6, 'character': 'Emily Shaw', 'cr...</td>\n",
       "      <td>[{'credit_id': '52fe4776c3a368484e0c8387', 'de...</td>\n",
       "      <td>67758</td>\n",
       "    </tr>\n",
       "    <tr>\n",
       "      <th>45474</th>\n",
       "      <td>[{'cast_id': 2, 'character': '', 'credit_id': ...</td>\n",
       "      <td>[{'credit_id': '533bccebc3a36844cf0011a7', 'de...</td>\n",
       "      <td>227506</td>\n",
       "    </tr>\n",
       "    <tr>\n",
       "      <th>45475</th>\n",
       "      <td>[]</td>\n",
       "      <td>[{'credit_id': '593e676c92514105b702e68e', 'de...</td>\n",
       "      <td>461257</td>\n",
       "    </tr>\n",
       "  </tbody>\n",
       "</table>\n",
       "<p>45476 rows × 3 columns</p>\n",
       "</div>"
      ],
      "text/plain": [
       "                                                    cast  \\\n",
       "0      [{'cast_id': 14, 'character': 'Woody (voice)',...   \n",
       "1      [{'cast_id': 1, 'character': 'Alan Parrish', '...   \n",
       "2      [{'cast_id': 2, 'character': 'Max Goldman', 'c...   \n",
       "3      [{'cast_id': 1, 'character': \"Savannah 'Vannah...   \n",
       "4      [{'cast_id': 1, 'character': 'George Banks', '...   \n",
       "...                                                  ...   \n",
       "45471  [{'cast_id': 0, 'character': '', 'credit_id': ...   \n",
       "45472  [{'cast_id': 1002, 'character': 'Sister Angela...   \n",
       "45473  [{'cast_id': 6, 'character': 'Emily Shaw', 'cr...   \n",
       "45474  [{'cast_id': 2, 'character': '', 'credit_id': ...   \n",
       "45475                                                 []   \n",
       "\n",
       "                                                    crew      id  \n",
       "0      [{'credit_id': '52fe4284c3a36847f8024f49', 'de...     862  \n",
       "1      [{'credit_id': '52fe44bfc3a36847f80a7cd1', 'de...    8844  \n",
       "2      [{'credit_id': '52fe466a9251416c75077a89', 'de...   15602  \n",
       "3      [{'credit_id': '52fe44779251416c91011acb', 'de...   31357  \n",
       "4      [{'credit_id': '52fe44959251416c75039ed7', 'de...   11862  \n",
       "...                                                  ...     ...  \n",
       "45471  [{'credit_id': '5894a97d925141426c00818c', 'de...  439050  \n",
       "45472  [{'credit_id': '52fe4af1c3a36847f81e9b15', 'de...  111109  \n",
       "45473  [{'credit_id': '52fe4776c3a368484e0c8387', 'de...   67758  \n",
       "45474  [{'credit_id': '533bccebc3a36844cf0011a7', 'de...  227506  \n",
       "45475  [{'credit_id': '593e676c92514105b702e68e', 'de...  461257  \n",
       "\n",
       "[45476 rows x 3 columns]"
      ]
     },
     "execution_count": 92,
     "metadata": {},
     "output_type": "execute_result"
    }
   ],
   "source": [
    "df_a_transformar2"
   ]
  },
  {
   "cell_type": "code",
   "execution_count": 77,
   "metadata": {},
   "outputs": [],
   "source": [
    "cantidad = df_a_transformar2.shape\n",
    "lista_dicc = []\n",
    "lista_id = []\n",
    "for i in range(cantidad[0]-1):\n",
    "    s = eval(str(df_a_transformar2['cast'].loc[i]))\n",
    "    \n",
    "    if type(s) == list:\n",
    "        for diccionario in s:\n",
    "            lista_dicc.append(diccionario)\n",
    "            lista_id.append(df_a_transformar2['id'].loc[i])\n",
    "    else: \n",
    "        i=cantidad[0]\n",
    "        print(type(s))\n"
   ]
  },
  {
   "cell_type": "code",
   "execution_count": 82,
   "metadata": {},
   "outputs": [
    {
     "data": {
      "text/html": [
       "<div>\n",
       "<style scoped>\n",
       "    .dataframe tbody tr th:only-of-type {\n",
       "        vertical-align: middle;\n",
       "    }\n",
       "\n",
       "    .dataframe tbody tr th {\n",
       "        vertical-align: top;\n",
       "    }\n",
       "\n",
       "    .dataframe thead th {\n",
       "        text-align: right;\n",
       "    }\n",
       "</style>\n",
       "<table border=\"1\" class=\"dataframe\">\n",
       "  <thead>\n",
       "    <tr style=\"text-align: right;\">\n",
       "      <th></th>\n",
       "      <th>cast</th>\n",
       "      <th>id</th>\n",
       "    </tr>\n",
       "  </thead>\n",
       "  <tbody>\n",
       "    <tr>\n",
       "      <th>0</th>\n",
       "      <td>{'cast_id': 14, 'character': 'Woody (voice)', ...</td>\n",
       "      <td>862</td>\n",
       "    </tr>\n",
       "    <tr>\n",
       "      <th>1</th>\n",
       "      <td>{'cast_id': 15, 'character': 'Buzz Lightyear (...</td>\n",
       "      <td>862</td>\n",
       "    </tr>\n",
       "    <tr>\n",
       "      <th>2</th>\n",
       "      <td>{'cast_id': 16, 'character': 'Mr. Potato Head ...</td>\n",
       "      <td>862</td>\n",
       "    </tr>\n",
       "    <tr>\n",
       "      <th>3</th>\n",
       "      <td>{'cast_id': 17, 'character': 'Slinky Dog (voic...</td>\n",
       "      <td>862</td>\n",
       "    </tr>\n",
       "    <tr>\n",
       "      <th>4</th>\n",
       "      <td>{'cast_id': 18, 'character': 'Rex (voice)', 'c...</td>\n",
       "      <td>862</td>\n",
       "    </tr>\n",
       "    <tr>\n",
       "      <th>...</th>\n",
       "      <td>...</td>\n",
       "      <td>...</td>\n",
       "    </tr>\n",
       "    <tr>\n",
       "      <th>562469</th>\n",
       "      <td>{'cast_id': 2, 'character': '', 'credit_id': '...</td>\n",
       "      <td>227506</td>\n",
       "    </tr>\n",
       "    <tr>\n",
       "      <th>562470</th>\n",
       "      <td>{'cast_id': 3, 'character': '', 'credit_id': '...</td>\n",
       "      <td>227506</td>\n",
       "    </tr>\n",
       "    <tr>\n",
       "      <th>562471</th>\n",
       "      <td>{'cast_id': 4, 'character': '', 'credit_id': '...</td>\n",
       "      <td>227506</td>\n",
       "    </tr>\n",
       "    <tr>\n",
       "      <th>562472</th>\n",
       "      <td>{'cast_id': 5, 'character': '', 'credit_id': '...</td>\n",
       "      <td>227506</td>\n",
       "    </tr>\n",
       "    <tr>\n",
       "      <th>562473</th>\n",
       "      <td>{'cast_id': 6, 'character': '', 'credit_id': '...</td>\n",
       "      <td>227506</td>\n",
       "    </tr>\n",
       "  </tbody>\n",
       "</table>\n",
       "<p>562474 rows × 2 columns</p>\n",
       "</div>"
      ],
      "text/plain": [
       "                                                     cast      id\n",
       "0       {'cast_id': 14, 'character': 'Woody (voice)', ...     862\n",
       "1       {'cast_id': 15, 'character': 'Buzz Lightyear (...     862\n",
       "2       {'cast_id': 16, 'character': 'Mr. Potato Head ...     862\n",
       "3       {'cast_id': 17, 'character': 'Slinky Dog (voic...     862\n",
       "4       {'cast_id': 18, 'character': 'Rex (voice)', 'c...     862\n",
       "...                                                   ...     ...\n",
       "562469  {'cast_id': 2, 'character': '', 'credit_id': '...  227506\n",
       "562470  {'cast_id': 3, 'character': '', 'credit_id': '...  227506\n",
       "562471  {'cast_id': 4, 'character': '', 'credit_id': '...  227506\n",
       "562472  {'cast_id': 5, 'character': '', 'credit_id': '...  227506\n",
       "562473  {'cast_id': 6, 'character': '', 'credit_id': '...  227506\n",
       "\n",
       "[562474 rows x 2 columns]"
      ]
     },
     "execution_count": 82,
     "metadata": {},
     "output_type": "execute_result"
    }
   ],
   "source": [
    "df_cast = pd.DataFrame({'cast': lista_dicc, 'id': lista_id})\n",
    "df_cast"
   ]
  },
  {
   "cell_type": "code",
   "execution_count": 86,
   "metadata": {},
   "outputs": [],
   "source": [
    "lista_dicc_crew = []\n",
    "lista_id_crew = []\n",
    "\n",
    "for i in range(cantidad[0]-1):\n",
    "    s = eval(str(df_a_transformar2['crew'].loc[i]))\n",
    "    \n",
    "    if type(s) == list:\n",
    "        for diccionario in s:\n",
    "            lista_dicc_crew.append(diccionario)\n",
    "            lista_id_crew.append(df_a_transformar2['id'].loc[i])\n",
    "    else: \n",
    "        i=cantidad[0]\n",
    "        print(type(s))"
   ]
  },
  {
   "cell_type": "code",
   "execution_count": 87,
   "metadata": {},
   "outputs": [],
   "source": [
    "df_crew = pd.DataFrame({'crew': lista_dicc_crew, 'id': lista_id_crew})"
   ]
  },
  {
   "cell_type": "code",
   "execution_count": 88,
   "metadata": {},
   "outputs": [
    {
     "data": {
      "text/html": [
       "<div>\n",
       "<style scoped>\n",
       "    .dataframe tbody tr th:only-of-type {\n",
       "        vertical-align: middle;\n",
       "    }\n",
       "\n",
       "    .dataframe tbody tr th {\n",
       "        vertical-align: top;\n",
       "    }\n",
       "\n",
       "    .dataframe thead th {\n",
       "        text-align: right;\n",
       "    }\n",
       "</style>\n",
       "<table border=\"1\" class=\"dataframe\">\n",
       "  <thead>\n",
       "    <tr style=\"text-align: right;\">\n",
       "      <th></th>\n",
       "      <th>crew</th>\n",
       "      <th>id</th>\n",
       "    </tr>\n",
       "  </thead>\n",
       "  <tbody>\n",
       "    <tr>\n",
       "      <th>0</th>\n",
       "      <td>{'credit_id': '52fe4284c3a36847f8024f49', 'dep...</td>\n",
       "      <td>862</td>\n",
       "    </tr>\n",
       "    <tr>\n",
       "      <th>1</th>\n",
       "      <td>{'credit_id': '52fe4284c3a36847f8024f4f', 'dep...</td>\n",
       "      <td>862</td>\n",
       "    </tr>\n",
       "    <tr>\n",
       "      <th>2</th>\n",
       "      <td>{'credit_id': '52fe4284c3a36847f8024f55', 'dep...</td>\n",
       "      <td>862</td>\n",
       "    </tr>\n",
       "    <tr>\n",
       "      <th>3</th>\n",
       "      <td>{'credit_id': '52fe4284c3a36847f8024f5b', 'dep...</td>\n",
       "      <td>862</td>\n",
       "    </tr>\n",
       "    <tr>\n",
       "      <th>4</th>\n",
       "      <td>{'credit_id': '52fe4284c3a36847f8024f61', 'dep...</td>\n",
       "      <td>862</td>\n",
       "    </tr>\n",
       "    <tr>\n",
       "      <th>...</th>\n",
       "      <td>...</td>\n",
       "      <td>...</td>\n",
       "    </tr>\n",
       "    <tr>\n",
       "      <th>464308</th>\n",
       "      <td>{'credit_id': '52fe4776c3a368484e0c8393', 'dep...</td>\n",
       "      <td>67758</td>\n",
       "    </tr>\n",
       "    <tr>\n",
       "      <th>464309</th>\n",
       "      <td>{'credit_id': '52fe4776c3a368484e0c8399', 'dep...</td>\n",
       "      <td>67758</td>\n",
       "    </tr>\n",
       "    <tr>\n",
       "      <th>464310</th>\n",
       "      <td>{'credit_id': '52fe4776c3a368484e0c839f', 'dep...</td>\n",
       "      <td>67758</td>\n",
       "    </tr>\n",
       "    <tr>\n",
       "      <th>464311</th>\n",
       "      <td>{'credit_id': '533bccebc3a36844cf0011a7', 'dep...</td>\n",
       "      <td>227506</td>\n",
       "    </tr>\n",
       "    <tr>\n",
       "      <th>464312</th>\n",
       "      <td>{'credit_id': '58ebbc26925141281908aa0a', 'dep...</td>\n",
       "      <td>227506</td>\n",
       "    </tr>\n",
       "  </tbody>\n",
       "</table>\n",
       "<p>464313 rows × 2 columns</p>\n",
       "</div>"
      ],
      "text/plain": [
       "                                                     crew      id\n",
       "0       {'credit_id': '52fe4284c3a36847f8024f49', 'dep...     862\n",
       "1       {'credit_id': '52fe4284c3a36847f8024f4f', 'dep...     862\n",
       "2       {'credit_id': '52fe4284c3a36847f8024f55', 'dep...     862\n",
       "3       {'credit_id': '52fe4284c3a36847f8024f5b', 'dep...     862\n",
       "4       {'credit_id': '52fe4284c3a36847f8024f61', 'dep...     862\n",
       "...                                                   ...     ...\n",
       "464308  {'credit_id': '52fe4776c3a368484e0c8393', 'dep...   67758\n",
       "464309  {'credit_id': '52fe4776c3a368484e0c8399', 'dep...   67758\n",
       "464310  {'credit_id': '52fe4776c3a368484e0c839f', 'dep...   67758\n",
       "464311  {'credit_id': '533bccebc3a36844cf0011a7', 'dep...  227506\n",
       "464312  {'credit_id': '58ebbc26925141281908aa0a', 'dep...  227506\n",
       "\n",
       "[464313 rows x 2 columns]"
      ]
     },
     "execution_count": 88,
     "metadata": {},
     "output_type": "execute_result"
    }
   ],
   "source": [
    "df_crew"
   ]
  },
  {
   "cell_type": "code",
   "execution_count": 91,
   "metadata": {},
   "outputs": [
    {
     "data": {
      "text/html": [
       "<div>\n",
       "<style scoped>\n",
       "    .dataframe tbody tr th:only-of-type {\n",
       "        vertical-align: middle;\n",
       "    }\n",
       "\n",
       "    .dataframe tbody tr th {\n",
       "        vertical-align: top;\n",
       "    }\n",
       "\n",
       "    .dataframe thead th {\n",
       "        text-align: right;\n",
       "    }\n",
       "</style>\n",
       "<table border=\"1\" class=\"dataframe\">\n",
       "  <thead>\n",
       "    <tr style=\"text-align: right;\">\n",
       "      <th></th>\n",
       "      <th>cast</th>\n",
       "      <th>id</th>\n",
       "      <th>crew</th>\n",
       "    </tr>\n",
       "  </thead>\n",
       "  <tbody>\n",
       "    <tr>\n",
       "      <th>0</th>\n",
       "      <td>{'cast_id': 14, 'character': 'Woody (voice)', ...</td>\n",
       "      <td>862</td>\n",
       "      <td>{'credit_id': '52fe4284c3a36847f8024f49', 'dep...</td>\n",
       "    </tr>\n",
       "    <tr>\n",
       "      <th>1</th>\n",
       "      <td>{'cast_id': 14, 'character': 'Woody (voice)', ...</td>\n",
       "      <td>862</td>\n",
       "      <td>{'credit_id': '52fe4284c3a36847f8024f4f', 'dep...</td>\n",
       "    </tr>\n",
       "    <tr>\n",
       "      <th>2</th>\n",
       "      <td>{'cast_id': 14, 'character': 'Woody (voice)', ...</td>\n",
       "      <td>862</td>\n",
       "      <td>{'credit_id': '52fe4284c3a36847f8024f55', 'dep...</td>\n",
       "    </tr>\n",
       "    <tr>\n",
       "      <th>3</th>\n",
       "      <td>{'cast_id': 14, 'character': 'Woody (voice)', ...</td>\n",
       "      <td>862</td>\n",
       "      <td>{'credit_id': '52fe4284c3a36847f8024f5b', 'dep...</td>\n",
       "    </tr>\n",
       "    <tr>\n",
       "      <th>4</th>\n",
       "      <td>{'cast_id': 14, 'character': 'Woody (voice)', ...</td>\n",
       "      <td>862</td>\n",
       "      <td>{'credit_id': '52fe4284c3a36847f8024f61', 'dep...</td>\n",
       "    </tr>\n",
       "    <tr>\n",
       "      <th>...</th>\n",
       "      <td>...</td>\n",
       "      <td>...</td>\n",
       "      <td>...</td>\n",
       "    </tr>\n",
       "    <tr>\n",
       "      <th>9489828</th>\n",
       "      <td>{'cast_id': 4, 'character': '', 'credit_id': '...</td>\n",
       "      <td>227506</td>\n",
       "      <td>{'credit_id': '58ebbc26925141281908aa0a', 'dep...</td>\n",
       "    </tr>\n",
       "    <tr>\n",
       "      <th>9489829</th>\n",
       "      <td>{'cast_id': 5, 'character': '', 'credit_id': '...</td>\n",
       "      <td>227506</td>\n",
       "      <td>{'credit_id': '533bccebc3a36844cf0011a7', 'dep...</td>\n",
       "    </tr>\n",
       "    <tr>\n",
       "      <th>9489830</th>\n",
       "      <td>{'cast_id': 5, 'character': '', 'credit_id': '...</td>\n",
       "      <td>227506</td>\n",
       "      <td>{'credit_id': '58ebbc26925141281908aa0a', 'dep...</td>\n",
       "    </tr>\n",
       "    <tr>\n",
       "      <th>9489831</th>\n",
       "      <td>{'cast_id': 6, 'character': '', 'credit_id': '...</td>\n",
       "      <td>227506</td>\n",
       "      <td>{'credit_id': '533bccebc3a36844cf0011a7', 'dep...</td>\n",
       "    </tr>\n",
       "    <tr>\n",
       "      <th>9489832</th>\n",
       "      <td>{'cast_id': 6, 'character': '', 'credit_id': '...</td>\n",
       "      <td>227506</td>\n",
       "      <td>{'credit_id': '58ebbc26925141281908aa0a', 'dep...</td>\n",
       "    </tr>\n",
       "  </tbody>\n",
       "</table>\n",
       "<p>9489833 rows × 3 columns</p>\n",
       "</div>"
      ],
      "text/plain": [
       "                                                      cast      id  \\\n",
       "0        {'cast_id': 14, 'character': 'Woody (voice)', ...     862   \n",
       "1        {'cast_id': 14, 'character': 'Woody (voice)', ...     862   \n",
       "2        {'cast_id': 14, 'character': 'Woody (voice)', ...     862   \n",
       "3        {'cast_id': 14, 'character': 'Woody (voice)', ...     862   \n",
       "4        {'cast_id': 14, 'character': 'Woody (voice)', ...     862   \n",
       "...                                                    ...     ...   \n",
       "9489828  {'cast_id': 4, 'character': '', 'credit_id': '...  227506   \n",
       "9489829  {'cast_id': 5, 'character': '', 'credit_id': '...  227506   \n",
       "9489830  {'cast_id': 5, 'character': '', 'credit_id': '...  227506   \n",
       "9489831  {'cast_id': 6, 'character': '', 'credit_id': '...  227506   \n",
       "9489832  {'cast_id': 6, 'character': '', 'credit_id': '...  227506   \n",
       "\n",
       "                                                      crew  \n",
       "0        {'credit_id': '52fe4284c3a36847f8024f49', 'dep...  \n",
       "1        {'credit_id': '52fe4284c3a36847f8024f4f', 'dep...  \n",
       "2        {'credit_id': '52fe4284c3a36847f8024f55', 'dep...  \n",
       "3        {'credit_id': '52fe4284c3a36847f8024f5b', 'dep...  \n",
       "4        {'credit_id': '52fe4284c3a36847f8024f61', 'dep...  \n",
       "...                                                    ...  \n",
       "9489828  {'credit_id': '58ebbc26925141281908aa0a', 'dep...  \n",
       "9489829  {'credit_id': '533bccebc3a36844cf0011a7', 'dep...  \n",
       "9489830  {'credit_id': '58ebbc26925141281908aa0a', 'dep...  \n",
       "9489831  {'credit_id': '533bccebc3a36844cf0011a7', 'dep...  \n",
       "9489832  {'credit_id': '58ebbc26925141281908aa0a', 'dep...  \n",
       "\n",
       "[9489833 rows x 3 columns]"
      ]
     },
     "execution_count": 91,
     "metadata": {},
     "output_type": "execute_result"
    }
   ],
   "source": [
    "df_credits = pd.merge(df_cast, df_crew, how='left', on='id')\n",
    "df_credits"
   ]
  },
  {
   "cell_type": "code",
   "execution_count": 93,
   "metadata": {},
   "outputs": [
    {
     "name": "stdout",
     "output_type": "stream",
     "text": [
      "<class 'pandas.core.frame.DataFrame'>\n",
      "Int64Index: 45466 entries, 0 to 45465\n",
      "Data columns (total 30 columns):\n",
      " #   Column                 Non-Null Count  Dtype  \n",
      "---  ------                 --------------  -----  \n",
      " 0   level_0                45466 non-null  int64  \n",
      " 1   index                  45466 non-null  int64  \n",
      " 2   adult                  45466 non-null  object \n",
      " 3   belongs_to_collection  4494 non-null   object \n",
      " 4   budget                 45466 non-null  object \n",
      " 5   genres                 45466 non-null  object \n",
      " 6   homepage               7782 non-null   object \n",
      " 7   id                     45466 non-null  object \n",
      " 8   imdb_id                45449 non-null  object \n",
      " 9   original_language      45455 non-null  object \n",
      " 10  original_title         45466 non-null  object \n",
      " 11  overview               44512 non-null  object \n",
      " 12  popularity             45461 non-null  object \n",
      " 13  poster_path_x          45080 non-null  object \n",
      " 14  production_companies   45463 non-null  object \n",
      " 15  production_countries   45463 non-null  object \n",
      " 16  release_date           45379 non-null  object \n",
      " 17  revenue                45460 non-null  float64\n",
      " 18  runtime                45203 non-null  float64\n",
      " 19  spoken_languages       45460 non-null  object \n",
      " 20  status                 45379 non-null  object \n",
      " 21  tagline                20412 non-null  object \n",
      " 22  title                  45460 non-null  object \n",
      " 23  video                  45460 non-null  object \n",
      " 24  vote_average           45460 non-null  float64\n",
      " 25  vote_count             45460 non-null  float64\n",
      " 26  id_franquicia          4488 non-null   float64\n",
      " 27  name_franquicia        4488 non-null   object \n",
      " 28  poster_path_y          3945 non-null   object \n",
      " 29  backdrop_path          3260 non-null   object \n",
      "dtypes: float64(5), int64(2), object(23)\n",
      "memory usage: 10.8+ MB\n"
     ]
    }
   ],
   "source": [
    "df_prueba.info()"
   ]
  },
  {
   "cell_type": "code",
   "execution_count": 107,
   "metadata": {},
   "outputs": [],
   "source": [
    "lista_index = []\n",
    "for i in range(45466-1):\n",
    "    if not df_prueba['id'].loc[i].isdigit():\n",
    "        lista_index.append(i)\n",
    "\n",
    "df_prueba = df_prueba.drop(lista_index)\n",
    "df_prueba['id']=df_prueba['id'].astype(int)"
   ]
  },
  {
   "cell_type": "code",
   "execution_count": null,
   "metadata": {},
   "outputs": [],
   "source": [
    "df_completo = pd.merge(df_credits, df_prueba, how='left', on='id')"
   ]
  },
  {
   "cell_type": "code",
   "execution_count": 116,
   "metadata": {},
   "outputs": [
    {
     "name": "stdout",
     "output_type": "stream",
     "text": [
      "<class 'pandas.core.frame.DataFrame'>\n",
      "Int64Index: 9505661 entries, 0 to 9505660\n",
      "Data columns (total 32 columns):\n",
      " #   Column                 Dtype  \n",
      "---  ------                 -----  \n",
      " 0   cast                   object \n",
      " 1   id                     int64  \n",
      " 2   crew                   object \n",
      " 3   level_0                int64  \n",
      " 4   index                  int64  \n",
      " 5   adult                  object \n",
      " 6   belongs_to_collection  object \n",
      " 7   budget                 object \n",
      " 8   genres                 object \n",
      " 9   homepage               object \n",
      " 10  imdb_id                object \n",
      " 11  original_language      object \n",
      " 12  original_title         object \n",
      " 13  overview               object \n",
      " 14  popularity             object \n",
      " 15  poster_path_x          object \n",
      " 16  production_companies   object \n",
      " 17  production_countries   object \n",
      " 18  release_date           object \n",
      " 19  revenue                float64\n",
      " 20  runtime                float64\n",
      " 21  spoken_languages       object \n",
      " 22  status                 object \n",
      " 23  tagline                object \n",
      " 24  title                  object \n",
      " 25  video                  object \n",
      " 26  vote_average           float64\n",
      " 27  vote_count             float64\n",
      " 28  id_franquicia          float64\n",
      " 29  name_franquicia        object \n",
      " 30  poster_path_y          object \n",
      " 31  backdrop_path          object \n",
      "dtypes: float64(5), int64(3), object(24)\n",
      "memory usage: 2.3+ GB\n"
     ]
    }
   ],
   "source": [
    "df_completo.info()"
   ]
  },
  {
   "cell_type": "code",
   "execution_count": null,
   "metadata": {},
   "outputs": [],
   "source": [
    "df_completo = df_completo.drop(columns=['video', 'imdb_id', 'adult', 'original_title', 'poster_path_x', 'poster_path_y', 'homepage'])"
   ]
  },
  {
   "cell_type": "code",
   "execution_count": 118,
   "metadata": {},
   "outputs": [
    {
     "name": "stdout",
     "output_type": "stream",
     "text": [
      "<class 'pandas.core.frame.DataFrame'>\n",
      "Int64Index: 9505661 entries, 0 to 9505660\n",
      "Data columns (total 25 columns):\n",
      " #   Column                 Dtype  \n",
      "---  ------                 -----  \n",
      " 0   cast                   object \n",
      " 1   id                     int64  \n",
      " 2   crew                   object \n",
      " 3   level_0                int64  \n",
      " 4   index                  int64  \n",
      " 5   belongs_to_collection  object \n",
      " 6   budget                 object \n",
      " 7   genres                 object \n",
      " 8   original_language      object \n",
      " 9   overview               object \n",
      " 10  popularity             object \n",
      " 11  production_companies   object \n",
      " 12  production_countries   object \n",
      " 13  release_date           object \n",
      " 14  revenue                float64\n",
      " 15  runtime                float64\n",
      " 16  spoken_languages       object \n",
      " 17  status                 object \n",
      " 18  tagline                object \n",
      " 19  title                  object \n",
      " 20  vote_average           float64\n",
      " 21  vote_count             float64\n",
      " 22  id_franquicia          float64\n",
      " 23  name_franquicia        object \n",
      " 24  backdrop_path          object \n",
      "dtypes: float64(5), int64(3), object(17)\n",
      "memory usage: 1.8+ GB\n"
     ]
    }
   ],
   "source": [
    "df_completo.info()"
   ]
  },
  {
   "cell_type": "code",
   "execution_count": 120,
   "metadata": {},
   "outputs": [
    {
     "data": {
      "text/plain": [
       "cast                           0\n",
       "id                             0\n",
       "crew                        1806\n",
       "level_0                        0\n",
       "index                          0\n",
       "belongs_to_collection    7417917\n",
       "budget                         0\n",
       "genres                         0\n",
       "original_language             93\n",
       "overview                   41318\n",
       "popularity                   375\n",
       "production_companies         375\n",
       "production_countries         375\n",
       "release_date                 648\n",
       "revenue                      375\n",
       "runtime                     8803\n",
       "spoken_languages             375\n",
       "status                      1434\n",
       "tagline                  2233207\n",
       "title                        375\n",
       "vote_average                 375\n",
       "vote_count                   375\n",
       "id_franquicia            7418786\n",
       "name_franquicia          7418786\n",
       "backdrop_path            7652481\n",
       "dtype: int64"
      ]
     },
     "execution_count": 120,
     "metadata": {},
     "output_type": "execute_result"
    }
   ],
   "source": [
    "df_completo.isnull().sum()"
   ]
  },
  {
   "cell_type": "code",
   "execution_count": 121,
   "metadata": {},
   "outputs": [],
   "source": [
    "df_completo[['revenue', 'budget']] = df_completo[['revenue', 'budget']].fillna(0)"
   ]
  },
  {
   "cell_type": "code",
   "execution_count": 125,
   "metadata": {},
   "outputs": [
    {
     "data": {
      "text/plain": [
       "648"
      ]
     },
     "execution_count": 125,
     "metadata": {},
     "output_type": "execute_result"
    }
   ],
   "source": [
    "df_completo['release_date'].isnull().sum()"
   ]
  },
  {
   "cell_type": "code",
   "execution_count": 126,
   "metadata": {},
   "outputs": [],
   "source": [
    "mask = df_completo['release_date'].isnull()"
   ]
  },
  {
   "cell_type": "code",
   "execution_count": 127,
   "metadata": {},
   "outputs": [],
   "source": [
    "df_completo = df_completo.drop(df_completo[mask].index)"
   ]
  },
  {
   "cell_type": "code",
   "execution_count": 128,
   "metadata": {},
   "outputs": [
    {
     "data": {
      "text/plain": [
       "0"
      ]
     },
     "execution_count": 128,
     "metadata": {},
     "output_type": "execute_result"
    }
   ],
   "source": [
    "df_completo['release_date'].isnull().sum()"
   ]
  },
  {
   "cell_type": "code",
   "execution_count": 141,
   "metadata": {},
   "outputs": [],
   "source": [
    "df_completo['release_date'] = df_completo['release_date'].str.strip()\n",
    "df_completo['release_date'] = pd.to_datetime(df_completo['release_date'], errors='coerce')\n",
    "df_completo['release_date'] = df_completo['release_date'].dt.strftime('%Y-%m-%d')\n",
    "df_completo['release_date'] = pd.to_datetime(df_completo['release_date'], errors='coerce')"
   ]
  },
  {
   "cell_type": "code",
   "execution_count": 142,
   "metadata": {},
   "outputs": [
    {
     "data": {
      "text/plain": [
       "dtype('<M8[ns]')"
      ]
     },
     "execution_count": 142,
     "metadata": {},
     "output_type": "execute_result"
    }
   ],
   "source": [
    "df_completo['release_date'].dtypes"
   ]
  },
  {
   "cell_type": "code",
   "execution_count": 143,
   "metadata": {},
   "outputs": [
    {
     "data": {
      "text/plain": [
       "0         1995-10-30\n",
       "1         1995-10-30\n",
       "2         1995-10-30\n",
       "3         1995-10-30\n",
       "4         1995-10-30\n",
       "             ...    \n",
       "9505656   1917-10-21\n",
       "9505657   1917-10-21\n",
       "9505658   1917-10-21\n",
       "9505659   1917-10-21\n",
       "9505660   1917-10-21\n",
       "Name: release_date, Length: 9505013, dtype: datetime64[ns]"
      ]
     },
     "execution_count": 143,
     "metadata": {},
     "output_type": "execute_result"
    }
   ],
   "source": [
    "df_completo['release_date']"
   ]
  },
  {
   "cell_type": "code",
   "execution_count": 146,
   "metadata": {},
   "outputs": [
    {
     "ename": "TypeError",
     "evalue": "unsupported operand type(s) for /: 'float' and 'str'",
     "output_type": "error",
     "traceback": [
      "\u001b[1;31m---------------------------------------------------------------------------\u001b[0m",
      "\u001b[1;31mTypeError\u001b[0m                                 Traceback (most recent call last)",
      "\u001b[1;32mc:\\Users\\yesen\\Desktop\\Henry\\From_Henry\\PI_ML_OPS\\Transformaciones.ipynb Cell 76\u001b[0m in \u001b[0;36m1\n\u001b[1;32m----> <a href='vscode-notebook-cell:/c%3A/Users/yesen/Desktop/Henry/From_Henry/PI_ML_OPS/Transformaciones.ipynb#Y156sZmlsZQ%3D%3D?line=0'>1</a>\u001b[0m df_completo[\u001b[39m'\u001b[39m\u001b[39mreturn\u001b[39m\u001b[39m'\u001b[39m] \u001b[39m=\u001b[39m df_completo\u001b[39m.\u001b[39;49mapply(\u001b[39mlambda\u001b[39;49;00m row: row[\u001b[39m'\u001b[39;49m\u001b[39mrevenue\u001b[39;49m\u001b[39m'\u001b[39;49m] \u001b[39m/\u001b[39;49m row[\u001b[39m'\u001b[39;49m\u001b[39mbudget\u001b[39;49m\u001b[39m'\u001b[39;49m] \u001b[39mif\u001b[39;49;00m pd\u001b[39m.\u001b[39;49mnotnull(row[\u001b[39m'\u001b[39;49m\u001b[39mrevenue\u001b[39;49m\u001b[39m'\u001b[39;49m]) \u001b[39mand\u001b[39;49;00m pd\u001b[39m.\u001b[39;49mnotnull(row[\u001b[39m'\u001b[39;49m\u001b[39mbudget\u001b[39;49m\u001b[39m'\u001b[39;49m]) \u001b[39melse\u001b[39;49;00m \u001b[39m0\u001b[39;49m, axis\u001b[39m=\u001b[39;49m\u001b[39m1\u001b[39;49m)\n",
      "File \u001b[1;32m~\\AppData\\Local\\Packages\\PythonSoftwareFoundation.Python.3.10_qbz5n2kfra8p0\\LocalCache\\local-packages\\Python310\\site-packages\\pandas\\core\\frame.py:9555\u001b[0m, in \u001b[0;36mDataFrame.apply\u001b[1;34m(self, func, axis, raw, result_type, args, **kwargs)\u001b[0m\n\u001b[0;32m   9544\u001b[0m \u001b[39mfrom\u001b[39;00m \u001b[39mpandas\u001b[39;00m\u001b[39m.\u001b[39;00m\u001b[39mcore\u001b[39;00m\u001b[39m.\u001b[39;00m\u001b[39mapply\u001b[39;00m \u001b[39mimport\u001b[39;00m frame_apply\n\u001b[0;32m   9546\u001b[0m op \u001b[39m=\u001b[39m frame_apply(\n\u001b[0;32m   9547\u001b[0m     \u001b[39mself\u001b[39m,\n\u001b[0;32m   9548\u001b[0m     func\u001b[39m=\u001b[39mfunc,\n\u001b[1;32m   (...)\u001b[0m\n\u001b[0;32m   9553\u001b[0m     kwargs\u001b[39m=\u001b[39mkwargs,\n\u001b[0;32m   9554\u001b[0m )\n\u001b[1;32m-> 9555\u001b[0m \u001b[39mreturn\u001b[39;00m op\u001b[39m.\u001b[39;49mapply()\u001b[39m.\u001b[39m__finalize__(\u001b[39mself\u001b[39m, method\u001b[39m=\u001b[39m\u001b[39m\"\u001b[39m\u001b[39mapply\u001b[39m\u001b[39m\"\u001b[39m)\n",
      "File \u001b[1;32m~\\AppData\\Local\\Packages\\PythonSoftwareFoundation.Python.3.10_qbz5n2kfra8p0\\LocalCache\\local-packages\\Python310\\site-packages\\pandas\\core\\apply.py:746\u001b[0m, in \u001b[0;36mFrameApply.apply\u001b[1;34m(self)\u001b[0m\n\u001b[0;32m    743\u001b[0m \u001b[39melif\u001b[39;00m \u001b[39mself\u001b[39m\u001b[39m.\u001b[39mraw:\n\u001b[0;32m    744\u001b[0m     \u001b[39mreturn\u001b[39;00m \u001b[39mself\u001b[39m\u001b[39m.\u001b[39mapply_raw()\n\u001b[1;32m--> 746\u001b[0m \u001b[39mreturn\u001b[39;00m \u001b[39mself\u001b[39;49m\u001b[39m.\u001b[39;49mapply_standard()\n",
      "File \u001b[1;32m~\\AppData\\Local\\Packages\\PythonSoftwareFoundation.Python.3.10_qbz5n2kfra8p0\\LocalCache\\local-packages\\Python310\\site-packages\\pandas\\core\\apply.py:873\u001b[0m, in \u001b[0;36mFrameApply.apply_standard\u001b[1;34m(self)\u001b[0m\n\u001b[0;32m    872\u001b[0m \u001b[39mdef\u001b[39;00m \u001b[39mapply_standard\u001b[39m(\u001b[39mself\u001b[39m):\n\u001b[1;32m--> 873\u001b[0m     results, res_index \u001b[39m=\u001b[39m \u001b[39mself\u001b[39;49m\u001b[39m.\u001b[39;49mapply_series_generator()\n\u001b[0;32m    875\u001b[0m     \u001b[39m# wrap results\u001b[39;00m\n\u001b[0;32m    876\u001b[0m     \u001b[39mreturn\u001b[39;00m \u001b[39mself\u001b[39m\u001b[39m.\u001b[39mwrap_results(results, res_index)\n",
      "File \u001b[1;32m~\\AppData\\Local\\Packages\\PythonSoftwareFoundation.Python.3.10_qbz5n2kfra8p0\\LocalCache\\local-packages\\Python310\\site-packages\\pandas\\core\\apply.py:889\u001b[0m, in \u001b[0;36mFrameApply.apply_series_generator\u001b[1;34m(self)\u001b[0m\n\u001b[0;32m    886\u001b[0m \u001b[39mwith\u001b[39;00m option_context(\u001b[39m\"\u001b[39m\u001b[39mmode.chained_assignment\u001b[39m\u001b[39m\"\u001b[39m, \u001b[39mNone\u001b[39;00m):\n\u001b[0;32m    887\u001b[0m     \u001b[39mfor\u001b[39;00m i, v \u001b[39min\u001b[39;00m \u001b[39menumerate\u001b[39m(series_gen):\n\u001b[0;32m    888\u001b[0m         \u001b[39m# ignore SettingWithCopy here in case the user mutates\u001b[39;00m\n\u001b[1;32m--> 889\u001b[0m         results[i] \u001b[39m=\u001b[39m \u001b[39mself\u001b[39;49m\u001b[39m.\u001b[39;49mf(v)\n\u001b[0;32m    890\u001b[0m         \u001b[39mif\u001b[39;00m \u001b[39misinstance\u001b[39m(results[i], ABCSeries):\n\u001b[0;32m    891\u001b[0m             \u001b[39m# If we have a view on v, we need to make a copy because\u001b[39;00m\n\u001b[0;32m    892\u001b[0m             \u001b[39m#  series_generator will swap out the underlying data\u001b[39;00m\n\u001b[0;32m    893\u001b[0m             results[i] \u001b[39m=\u001b[39m results[i]\u001b[39m.\u001b[39mcopy(deep\u001b[39m=\u001b[39m\u001b[39mFalse\u001b[39;00m)\n",
      "\u001b[1;32mc:\\Users\\yesen\\Desktop\\Henry\\From_Henry\\PI_ML_OPS\\Transformaciones.ipynb Cell 76\u001b[0m in \u001b[0;36m1\n\u001b[1;32m----> <a href='vscode-notebook-cell:/c%3A/Users/yesen/Desktop/Henry/From_Henry/PI_ML_OPS/Transformaciones.ipynb#Y156sZmlsZQ%3D%3D?line=0'>1</a>\u001b[0m df_completo[\u001b[39m'\u001b[39m\u001b[39mreturn\u001b[39m\u001b[39m'\u001b[39m] \u001b[39m=\u001b[39m df_completo\u001b[39m.\u001b[39mapply(\u001b[39mlambda\u001b[39;00m row: row[\u001b[39m'\u001b[39;49m\u001b[39mrevenue\u001b[39;49m\u001b[39m'\u001b[39;49m] \u001b[39m/\u001b[39;49m row[\u001b[39m'\u001b[39;49m\u001b[39mbudget\u001b[39;49m\u001b[39m'\u001b[39;49m] \u001b[39mif\u001b[39;00m pd\u001b[39m.\u001b[39mnotnull(row[\u001b[39m'\u001b[39m\u001b[39mrevenue\u001b[39m\u001b[39m'\u001b[39m]) \u001b[39mand\u001b[39;00m pd\u001b[39m.\u001b[39mnotnull(row[\u001b[39m'\u001b[39m\u001b[39mbudget\u001b[39m\u001b[39m'\u001b[39m]) \u001b[39melse\u001b[39;00m \u001b[39m0\u001b[39m, axis\u001b[39m=\u001b[39m\u001b[39m1\u001b[39m)\n",
      "\u001b[1;31mTypeError\u001b[0m: unsupported operand type(s) for /: 'float' and 'str'"
     ]
    }
   ],
   "source": [
    "df_completo['return'] = df_completo.apply(lambda row: row['revenue'] / row['budget'] if pd.notnull(row['revenue']) and pd.notnull(row['budget']) else 0, axis=1)"
   ]
  },
  {
   "cell_type": "code",
   "execution_count": 145,
   "metadata": {},
   "outputs": [
    {
     "data": {
      "text/plain": [
       "pandas.core.frame.DataFrame"
      ]
     },
     "execution_count": 145,
     "metadata": {},
     "output_type": "execute_result"
    }
   ],
   "source": [
    "type(df_completo)"
   ]
  },
  {
   "cell_type": "code",
   "execution_count": null,
   "metadata": {},
   "outputs": [],
   "source": []
  }
 ],
 "metadata": {
  "kernelspec": {
   "display_name": "Python 3",
   "language": "python",
   "name": "python3"
  },
  "language_info": {
   "codemirror_mode": {
    "name": "ipython",
    "version": 3
   },
   "file_extension": ".py",
   "mimetype": "text/x-python",
   "name": "python",
   "nbconvert_exporter": "python",
   "pygments_lexer": "ipython3",
   "version": "3.10.11"
  },
  "orig_nbformat": 4
 },
 "nbformat": 4,
 "nbformat_minor": 2
}
